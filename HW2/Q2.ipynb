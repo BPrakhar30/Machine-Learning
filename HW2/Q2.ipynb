{
  "nbformat": 4,
  "nbformat_minor": 0,
  "metadata": {
    "colab": {
      "provenance": [],
      "collapsed_sections": []
    },
    "kernelspec": {
      "name": "python3",
      "display_name": "Python 3"
    },
    "language_info": {
      "name": "python"
    }
  },
  "cells": [
    {
      "cell_type": "markdown",
      "source": [
        "**PRAKHAR BHARDWAJ**\n",
        "\n",
        "\n",
        "**24-787 ASSIGNMENT 2 **\n",
        "\n",
        "\n",
        "ANDREW ID - prakharb"
      ],
      "metadata": {
        "id": "51ToUt4W9sdL"
      }
    },
    {
      "cell_type": "markdown",
      "source": [
        "Question 2"
      ],
      "metadata": {
        "id": "jTwLNmV9-J4H"
      }
    },
    {
      "cell_type": "code",
      "source": [
        "import numpy as np \n",
        "import time as t\n",
        "np.random.seed(24787)\n",
        "a = np.random.randint(low = 0, high = 8, size = [3,4,4])\n",
        "print(a)\n",
        "a.shape\n",
        "#print(a.index(4))\n",
        "#for i,j in a:\n",
        "#if j == 4:\n",
        "  #  print(i)"
      ],
      "metadata": {
        "colab": {
          "base_uri": "https://localhost:8080/",
          "height": 0
        },
        "id": "Zw9sgPziLp9C",
        "outputId": "6d8fcd04-1dba-479d-e80f-de6eb51128aa"
      },
      "execution_count": 70,
      "outputs": [
        {
          "output_type": "stream",
          "name": "stdout",
          "text": [
            "[[[2 6 4 1]\n",
            "  [0 4 4 3]\n",
            "  [6 6 1 2]\n",
            "  [7 0 6 5]]\n",
            "\n",
            " [[1 3 3 7]\n",
            "  [4 7 2 5]\n",
            "  [0 4 6 7]\n",
            "  [5 5 7 1]]\n",
            "\n",
            " [[7 2 4 5]\n",
            "  [6 7 7 0]\n",
            "  [6 2 0 4]\n",
            "  [2 0 7 6]]]\n"
          ]
        },
        {
          "output_type": "execute_result",
          "data": {
            "text/plain": [
              "(3, 4, 4)"
            ]
          },
          "metadata": {},
          "execution_count": 70
        }
      ]
    },
    {
      "cell_type": "code",
      "source": [
        "location = np.where(a==4)\n",
        "#print(\"Depth Indices: \",location[0])\n",
        "print(\"Row Indices: \",location[1])\n",
        "print(\"Column Indices: \", location[2])"
      ],
      "metadata": {
        "colab": {
          "base_uri": "https://localhost:8080/",
          "height": 0
        },
        "id": "s8cQ2TDhRIJB",
        "outputId": "45e1cb33-2dce-4e5c-b561-9fd3a47a1764"
      },
      "execution_count": 71,
      "outputs": [
        {
          "output_type": "stream",
          "name": "stdout",
          "text": [
            "Row Indices:  [0 1 1 1 2 0 2]\n",
            "Column Indices:  [2 1 2 0 1 2 3]\n"
          ]
        }
      ]
    },
    {
      "cell_type": "code",
      "source": [
        "reps = (2,2)\n",
        "b = np.tile(a,reps)\n",
        "print(b)"
      ],
      "metadata": {
        "colab": {
          "base_uri": "https://localhost:8080/",
          "height": 0
        },
        "id": "JFEHuJLRLqkV",
        "outputId": "500d247b-a8e5-4d8f-f1e3-cf9e1346ce85"
      },
      "execution_count": 72,
      "outputs": [
        {
          "output_type": "stream",
          "name": "stdout",
          "text": [
            "[[[2 6 4 1 2 6 4 1]\n",
            "  [0 4 4 3 0 4 4 3]\n",
            "  [6 6 1 2 6 6 1 2]\n",
            "  [7 0 6 5 7 0 6 5]\n",
            "  [2 6 4 1 2 6 4 1]\n",
            "  [0 4 4 3 0 4 4 3]\n",
            "  [6 6 1 2 6 6 1 2]\n",
            "  [7 0 6 5 7 0 6 5]]\n",
            "\n",
            " [[1 3 3 7 1 3 3 7]\n",
            "  [4 7 2 5 4 7 2 5]\n",
            "  [0 4 6 7 0 4 6 7]\n",
            "  [5 5 7 1 5 5 7 1]\n",
            "  [1 3 3 7 1 3 3 7]\n",
            "  [4 7 2 5 4 7 2 5]\n",
            "  [0 4 6 7 0 4 6 7]\n",
            "  [5 5 7 1 5 5 7 1]]\n",
            "\n",
            " [[7 2 4 5 7 2 4 5]\n",
            "  [6 7 7 0 6 7 7 0]\n",
            "  [6 2 0 4 6 2 0 4]\n",
            "  [2 0 7 6 2 0 7 6]\n",
            "  [7 2 4 5 7 2 4 5]\n",
            "  [6 7 7 0 6 7 7 0]\n",
            "  [6 2 0 4 6 2 0 4]\n",
            "  [2 0 7 6 2 0 7 6]]]\n"
          ]
        }
      ]
    },
    {
      "cell_type": "code",
      "source": [
        "sum_along_depth = np.sum(b,axis=0)\n",
        "print (sum_along_depth)\n",
        "sum_along_depth.shape"
      ],
      "metadata": {
        "colab": {
          "base_uri": "https://localhost:8080/",
          "height": 0
        },
        "id": "L_tUZncGNQRp",
        "outputId": "8400fbf3-fdd0-4cbf-8ceb-939848673649"
      },
      "execution_count": 73,
      "outputs": [
        {
          "output_type": "stream",
          "name": "stdout",
          "text": [
            "[[10 11 11 13 10 11 11 13]\n",
            " [10 18 13  8 10 18 13  8]\n",
            " [12 12  7 13 12 12  7 13]\n",
            " [14  5 20 12 14  5 20 12]\n",
            " [10 11 11 13 10 11 11 13]\n",
            " [10 18 13  8 10 18 13  8]\n",
            " [12 12  7 13 12 12  7 13]\n",
            " [14  5 20 12 14  5 20 12]]\n"
          ]
        },
        {
          "output_type": "execute_result",
          "data": {
            "text/plain": [
              "(8, 8)"
            ]
          },
          "metadata": {},
          "execution_count": 73
        }
      ]
    },
    {
      "cell_type": "code",
      "source": [
        "np.random.seed(24787)\n",
        "a=np.random.randint(low=0,high=8,size=[1000,1000])\n",
        "b=np.random.randint(low=0,high=8,size=[1000,1000])\n",
        "print(\"Matrix A\")\n",
        "print(a)\n",
        "#print(len(a))\n",
        "#print(len(a[0]))\n",
        "print(\"Matrix B\")\n",
        "print(b)\n"
      ],
      "metadata": {
        "colab": {
          "base_uri": "https://localhost:8080/",
          "height": 0
        },
        "id": "hzbuhgi58Z1Z",
        "outputId": "ba8f90ad-2390-44c0-bbb1-64e552a825fa"
      },
      "execution_count": 74,
      "outputs": [
        {
          "output_type": "stream",
          "name": "stdout",
          "text": [
            "Matrix A\n",
            "[[2 6 4 ... 7 7 0]\n",
            " [0 0 7 ... 1 6 5]\n",
            " [1 4 5 ... 4 3 2]\n",
            " ...\n",
            " [1 7 0 ... 1 4 3]\n",
            " [4 1 0 ... 2 1 1]\n",
            " [2 0 6 ... 3 6 2]]\n",
            "Matrix B\n",
            "[[6 1 4 ... 2 3 0]\n",
            " [7 0 3 ... 0 0 1]\n",
            " [1 3 0 ... 3 5 2]\n",
            " ...\n",
            " [1 0 5 ... 4 5 0]\n",
            " [6 2 2 ... 5 7 2]\n",
            " [3 5 2 ... 0 2 6]]\n"
          ]
        }
      ]
    },
    {
      "cell_type": "code",
      "source": [
        "def matmul(a,b):\n",
        "    arr = np.zeros((1000,1000),dtype = int)\n",
        "    t_start = t.time()\n",
        "    for i in range(len(a)):\n",
        "        for j in range(len(b[0])):\n",
        "            for k in range(len(b)):\n",
        "                arr[i][j] += a[i][k] * b[k][j]\n",
        "    t_end = t.time()\n",
        "    print(arr)\n",
        "    print(\"time taken = \", t_end - t_start)\n",
        "\n",
        "matmul(a,b)\n",
        "t_start_ = t.time()\n",
        "c = a@b\n",
        "t_end_ = t.time()\n",
        "print(c)\n",
        "print(\"Time taken = \", t_end_ - t_start_)"
      ],
      "metadata": {
        "colab": {
          "base_uri": "https://localhost:8080/",
          "height": 0
        },
        "id": "4VWuUB7I-wfz",
        "outputId": "3adb1525-111a-4e5e-fc6a-b14d1b9ca43d"
      },
      "execution_count": 79,
      "outputs": [
        {
          "output_type": "stream",
          "name": "stdout",
          "text": [
            "[[12146 12253 12302 ... 12123 12415 12239]\n",
            " [12251 12131 12180 ... 12691 12396 12497]\n",
            " [11434 11864 12043 ... 12348 11960 12207]\n",
            " ...\n",
            " [11774 11945 12276 ... 12339 12178 12059]\n",
            " [11627 12167 12254 ... 11929 11958 12078]\n",
            " [11560 12145 12077 ... 12210 12124 12031]]\n",
            "time taken =  656.8271396160126\n",
            "[[12146 12253 12302 ... 12123 12415 12239]\n",
            " [12251 12131 12180 ... 12691 12396 12497]\n",
            " [11434 11864 12043 ... 12348 11960 12207]\n",
            " ...\n",
            " [11774 11945 12276 ... 12339 12178 12059]\n",
            " [11627 12167 12254 ... 11929 11958 12078]\n",
            " [11560 12145 12077 ... 12210 12124 12031]]\n",
            "Time taken =  0.8444726467132568\n"
          ]
        }
      ]
    },
    {
      "cell_type": "markdown",
      "source": [
        "The inbuilt function is faster than the function used is because in the inbuilt function all the array multiplication would be computed at an instance while in our function the array multiplication is computed individually, thus increases the time"
      ],
      "metadata": {
        "id": "iq-CH5jDCJne"
      }
    },
    {
      "cell_type": "code",
      "source": [],
      "metadata": {
        "id": "4NhOgsQiDncQ"
      },
      "execution_count": null,
      "outputs": []
    }
  ]
}