{
  "nbformat": 4,
  "nbformat_minor": 0,
  "metadata": {
    "colab": {
      "provenance": [],
      "collapsed_sections": []
    },
    "kernelspec": {
      "name": "python3",
      "display_name": "Python 3"
    },
    "language_info": {
      "name": "python"
    }
  },
  "cells": [
    {
      "cell_type": "markdown",
      "source": [
        "**PRAKHAR BHARDWAJ**\n",
        "\n",
        "\n",
        "**24-787 ASSIGNMENT 2 **\n",
        "\n",
        "\n",
        "ANDREW ID - prakharb"
      ],
      "metadata": {
        "id": "8zGh7yyD-U_x"
      }
    },
    {
      "cell_type": "markdown",
      "source": [
        "Question 4"
      ],
      "metadata": {
        "id": "pQPZj9dd-W6S"
      }
    },
    {
      "cell_type": "code",
      "execution_count": 21,
      "metadata": {
        "id": "C809pZfpPyuZ"
      },
      "outputs": [],
      "source": [
        "import numpy as np\n",
        "import pandas as pd\n",
        "import matplotlib.pyplot as plt\n",
        "import sklearn\n",
        "np.random.seed(1)"
      ]
    },
    {
      "cell_type": "code",
      "source": [
        "cls0 = pd.read_csv('class0-input.csv')\n",
        "cls1 = pd.read_csv('class1-input.csv')\n",
        "X = cls0.append(cls1, ignore_index=True)\n",
        "Y = pd.read_csv('labels.csv')\n",
        "print(X)\n",
        "print(Y)"
      ],
      "metadata": {
        "colab": {
          "base_uri": "https://localhost:8080/",
          "height": 0
        },
        "id": "X8q5SwH2V_8Z",
        "outputId": "68a01980-be87-4c14-a2f4-b85ce949cc7d"
      },
      "execution_count": 22,
      "outputs": [
        {
          "output_type": "stream",
          "name": "stdout",
          "text": [
            "            x1        x2\n",
            "0    -0.201517 -0.683358\n",
            "1     0.374519 -0.828082\n",
            "2    -0.161895 -1.247107\n",
            "3     0.037711 -0.047303\n",
            "4    -0.260479  1.770204\n",
            "...        ...       ...\n",
            "9995 -1.285488  2.922818\n",
            "9996  1.440506  4.047713\n",
            "9997  2.325596  4.181329\n",
            "9998  0.247073  4.229404\n",
            "9999  1.719022  4.825350\n",
            "\n",
            "[10000 rows x 2 columns]\n",
            "      label\n",
            "0         0\n",
            "1         0\n",
            "2         0\n",
            "3         0\n",
            "4         0\n",
            "...     ...\n",
            "9995      1\n",
            "9996      1\n",
            "9997      1\n",
            "9998      1\n",
            "9999      1\n",
            "\n",
            "[10000 rows x 1 columns]\n"
          ]
        }
      ]
    },
    {
      "cell_type": "code",
      "source": [
        "print(X.shape) \n",
        "print(Y.shape) "
      ],
      "metadata": {
        "colab": {
          "base_uri": "https://localhost:8080/",
          "height": 0
        },
        "id": "BkLJWMmfWDrX",
        "outputId": "275b07af-6640-4f1f-9afc-4fd7bc9ede01"
      },
      "execution_count": 23,
      "outputs": [
        {
          "output_type": "stream",
          "name": "stdout",
          "text": [
            "(10000, 2)\n",
            "(10000, 1)\n"
          ]
        }
      ]
    },
    {
      "cell_type": "code",
      "source": [],
      "metadata": {
        "id": "Y4uCz8YTLurg"
      },
      "execution_count": null,
      "outputs": []
    },
    {
      "cell_type": "code",
      "source": [
        "cls0 = pd.read_csv('class0-input.csv')\n",
        "cls1 = pd.read_csv('class1-input.csv')\n",
        "x = pd.concat([cls0, cls1])\n",
        "#print(x)\n",
        "x = np.asarray(x)\n",
        "y = pd.read_csv('labels.csv')\n",
        "plt.figure(figsize = (6,4))\n",
        "plt.scatter(x[:5000, 0], x[:5000, 1], color='yellow', label='class = 0')\n",
        "plt.scatter(x[5000:10000, 0], x[5000:10000, 1], color='red', label='class = 1')\n",
        "plt.title(\"Dataset: (X_1, X_2), Y= Labels\")\n",
        "plt.xlabel(\"X_1\")\n",
        "plt.ylabel(\"X_2\")\n",
        "plt.legend()\n",
        "dataset = pd.concat([X, Y], axis=1)\n",
        "plt.show()"
      ],
      "metadata": {
        "colab": {
          "base_uri": "https://localhost:8080/",
          "height": 296
        },
        "id": "rj7WugIJWHaW",
        "outputId": "67952502-fa8b-42f2-c7f9-0d1811d92fb7"
      },
      "execution_count": 24,
      "outputs": [
        {
          "output_type": "display_data",
          "data": {
            "text/plain": [
              "<Figure size 432x288 with 1 Axes>"
            ],
            "image/png": "[encoded data removed]"
          },
          "metadata": {
            "needs_background": "light"
          }
        }
      ]
    },
    {
      "cell_type": "code",
      "source": [],
      "metadata": {
        "id": "hXCMLJr4LuUQ"
      },
      "execution_count": null,
      "outputs": []
    },
    {
      "cell_type": "code",
      "source": [],
      "metadata": {
        "id": "mBI7zyEvMcAJ"
      },
      "execution_count": null,
      "outputs": []
    },
    {
      "cell_type": "code",
      "source": [],
      "metadata": {
        "id": "dD23JHMkMbtX"
      },
      "execution_count": null,
      "outputs": []
    },
    {
      "cell_type": "code",
      "source": [],
      "metadata": {
        "id": "2-MjZjnDMbcP"
      },
      "execution_count": null,
      "outputs": []
    },
    {
      "cell_type": "code",
      "source": [],
      "metadata": {
        "id": "g7rouoPdLugY"
      },
      "execution_count": null,
      "outputs": []
    },
    {
      "cell_type": "code",
      "source": [
        "# Sigmoid function\n",
        "def sigmoid(x1, x2, W01, W02, b):\n",
        "    return 1/(1+np.exp(-(np.dot(x1, W01) + np.dot(x2, W02) + b)))"
      ],
      "metadata": {
        "id": "tGbZrhTqWPTe"
      },
      "execution_count": 25,
      "outputs": []
    },
    {
      "cell_type": "code",
      "source": [
        "# Gradients is Returned\n",
        "def calculate_gradients(X_train, y_train, y_pred):\n",
        "    gradient_W01 = np.dot((y_pred-y_train).T, np.array(X_train[\"x1\"]))/(np.array(X_train[\"x1\"])).shape[0]\n",
        "    gradient_W02 = np.dot((y_pred-y_train).T, np.array(X_train[\"x2\"]))/(np.array(X_train[\"x2\"])).shape[0]\n",
        "    gradient_b = np.sum(y_pred-y_train)\n",
        "    return gradient_W01, gradient_W02, gradient_b"
      ],
      "metadata": {
        "id": "r1wezvnsWRti"
      },
      "execution_count": 45,
      "outputs": []
    },
    {
      "cell_type": "code",
      "source": [
        "# Updated weights (W01 and W02) and bias(b) are calculated and returned  \n",
        "def update_weights(W01, W02, b, gradient_W01, gradient_W02, gradient_b, lr):\n",
        "    W01 -= lr * gradient_W01\n",
        "    W02 -= lr * gradient_W02\n",
        "    b -= lr * gradient_b\n",
        "    return W01, W02, b"
      ],
      "metadata": {
        "id": "ccI0UKVqWUwo"
      },
      "execution_count": 46,
      "outputs": []
    },
    {
      "cell_type": "code",
      "source": [
        "# Main function\n",
        "def main(X_train, Y_train, W01, W02, b, lr, num_steps):\n",
        "  for i in range(num_steps):\n",
        "    Y_pred = predict(X_train, W01, W02, b)\n",
        "    gradient_W01, gradient_W02, gradient_b = calculate_gradients(X_train, Y_train, Y_pred)\n",
        "    W01, W02, b = update_weights(W01, W02, b, gradient_W01, gradient_W02, gradient_b, lr)\n",
        "  return W01, W02, b"
      ],
      "metadata": {
        "id": "B0NcM-DcWVWP"
      },
      "execution_count": 47,
      "outputs": []
    },
    {
      "cell_type": "code",
      "source": [
        "# Pass in the required arguments (final weights and input)\n",
        "# The function should return the predictions obtained using sigmoid function.\n",
        "def predict(X_train, W01, W02, b):\n",
        "  return sigmoid((X_train['x1']), (X_train['x2']), W01, W02, b)"
      ],
      "metadata": {
        "id": "Atb8nRisWX0l"
      },
      "execution_count": 48,
      "outputs": []
    },
    {
      "cell_type": "code",
      "source": [
        "# Use the final weights to perform prediction using predict funtion\n",
        "# Convert the predictions to '0' or '1'\n",
        "# Calculate the accuracy using predictions and labels\n",
        "\n",
        "shuffle_df = dataset.sample(frac=1)\n",
        "train_size = int(1.0 * len(dataset))\n",
        "X_train = shuffle_df[:train_size]\n",
        "Y_train = X_train[\"label\"]\n",
        "X_train.drop(\"label\", axis=1, inplace=True)\n",
        "np.random.seed(seed = 2001)\n",
        "W01, W02, b = main(X_train, np.array(Y_train), np.random.randint(0,9), np.random.randint(0,9), np.random.randint(0,9), 0.00005, 5000)\n",
        "y_prediction_test = predict(X_train, W01, W02, b)\n",
        "print(y_prediction_test)"
      ],
      "metadata": {
        "colab": {
          "base_uri": "https://localhost:8080/",
          "height": 0
        },
        "id": "dX6KNpGjWaZn",
        "outputId": "dbfe4dd4-80ed-4e8f-b7fe-6b1a4e4d8255"
      },
      "execution_count": 49,
      "outputs": [
        {
          "output_type": "stream",
          "name": "stdout",
          "text": [
            "[1.01683844e-01 9.99997615e-01 4.79397980e-01 ... 2.40452013e-05\n",
            " 3.79377173e-06 9.99961734e-01]\n"
          ]
        }
      ]
    },
    {
      "cell_type": "code",
      "source": [
        "Y_pred = []\n",
        "for i in range(len(y_prediction_test)):\n",
        "  if(y_prediction_test[i]>0.5): Y_pred.append(1)\n",
        "  else: Y_pred.append(0)\n",
        "print(\"Test accuracy: {} %\".format((1-np.mean(np.abs(Y_pred - np.array(Y_train))))*100))"
      ],
      "metadata": {
        "colab": {
          "base_uri": "https://localhost:8080/",
          "height": 0
        },
        "id": "ind_zToUWded",
        "outputId": "70c0990a-0101-4479-dd59-9a8102a5a9c0"
      },
      "execution_count": 50,
      "outputs": [
        {
          "output_type": "stream",
          "name": "stdout",
          "text": [
            "Test accuracy: 97.74000000000001 %\n"
          ]
        }
      ]
    },
    {
      "cell_type": "code",
      "source": [
        "# Use different colors for class 0, class 1 and misclassified datapoints\n",
        "# Use plt.scatter\n",
        "# Dont forget to add axes titles, graph title, legend\n",
        "cl3x=np.zeros(0)\n",
        "cl3y=np.zeros(0)\n",
        "cl1x=np.zeros(0)\n",
        "cl1y=np.zeros(0)\n",
        "cl2x=np.zeros(0)\n",
        "cl2y=np.zeros(0)\n",
        "x = np.asarray(X_train)\n",
        "Y_train = np.asarray(Y_train)\n",
        "for i in range(len(Y_train)):\n",
        "    d = Y_train[i]\n",
        "    c = Y_pred[i]\n",
        "    if c!=d:\n",
        "        cl3x=np.append(cl3x, x[i][0])\n",
        "        cl3y=np.append(cl3y, x[i][1])\n",
        "    elif d==1 and c==1:\n",
        "        cl1x=np.append(cl1x, x[i][0])\n",
        "        cl1y=np.append(cl1y, x[i][1])\n",
        "    elif d==0 and c==0:\n",
        "        cl2x=np.append(cl2x, x[i][0])\n",
        "        cl2y=np.append(cl2y, x[i][1])\n",
        "plt.scatter(cl1x,cl1y,color='blue', label='True class 1')\n",
        "plt.scatter(cl2x,cl2y,color='red', label='True class 2')\n",
        "plt.scatter(cl3x,cl3y, color='black', label='Misclasified')\n",
        "plt.legend()\n",
        "import matplotlib as mp1\n",
        "mp1.pyplot.xlabel(\"X1\")\n",
        "mp1.pyplot.ylabel(\"X2\")"
      ],
      "metadata": {
        "colab": {
          "base_uri": "https://localhost:8080/",
          "height": 296
        },
        "id": "3CvOEy_dWgXS",
        "outputId": "ff742e9b-720e-4fec-ff35-1e945e8315d0"
      },
      "execution_count": 51,
      "outputs": [
        {
          "output_type": "execute_result",
          "data": {
            "text/plain": [
              "Text(0, 0.5, 'X2')"
            ]
          },
          "metadata": {},
          "execution_count": 51
        },
        {
          "output_type": "display_data",
          "data": {
            "text/plain": [
              "<Figure size 432x288 with 1 Axes>"
            ],
            "image/png": "[encoded data removed]"
          },
          "metadata": {
            "needs_background": "light"
          }
        }
      ]
    },
    {
      "cell_type": "code",
      "source": [
        "# import sklearn and necessary libraries\n",
        "# Print the accuracy obtained by sklearn and your model\n",
        "from sklearn.model_selection import train_test_split\n",
        "#x_train, x_test, y_train, y_test = train_test_split(X, Y, test_size=0.20, random_state=0)\n",
        "from sklearn.linear_model import LogisticRegression\n",
        "clf = LogisticRegression().fit(x_train, y_train.values.ravel())\n",
        "print(\"SK learn accuracy percentage: \")\n",
        "print(100*clf.score(x_train, y_train))"
      ],
      "metadata": {
        "colab": {
          "base_uri": "https://localhost:8080/",
          "height": 0
        },
        "id": "bbhs0gK3Wl21",
        "outputId": "e30d58be-2a8e-4f39-ed74-fd4519c26e62"
      },
      "execution_count": 52,
      "outputs": [
        {
          "output_type": "stream",
          "name": "stdout",
          "text": [
            "SK learn accuracy percentage: \n",
            "99.4875\n"
          ]
        }
      ]
    },
    {
      "cell_type": "markdown",
      "source": [
        "The accuracy of our model is 97.74% while the accuracy of the sklearn model is 99.4875% "
      ],
      "metadata": {
        "id": "DvXjWU_RGjD6"
      }
    },
    {
      "cell_type": "code",
      "source": [],
      "metadata": {
        "id": "hS87nJ6VHEnb"
      },
      "execution_count": null,
      "outputs": []
    }
  ]
}