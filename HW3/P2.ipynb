{
  "cells": [
    {
      "cell_type": "markdown",
      "metadata": {
        "id": "PReoFYLInni0"
      },
      "source": [
        "# Problem 2: Implementing a Multi-layer Perceptron"
      ]
    },
    {
      "cell_type": "markdown",
      "source": [
        "PRAKHAR BHARDWAJ\n",
        "\n",
        "prakharb\n",
        "\n",
        "Q2"
      ],
      "metadata": {
        "id": "E-fI-Fu_2EZg"
      }
    },
    {
      "cell_type": "code",
      "execution_count": 6,
      "metadata": {
        "id": "rW-tsqX3nni5"
      },
      "outputs": [],
      "source": [
        "import numpy as np\n",
        "import matplotlib.pyplot as plt\n",
        "import pandas as pd\n",
        "import seaborn as sns\n",
        "\n",
        "import os\n",
        "from tqdm import tqdm\n",
        "\n",
        "import csv\n",
        "import zipfile"
      ]
    },
    {
      "cell_type": "code",
      "execution_count": 7,
      "metadata": {
        "id": "aalbKTddnni6"
      },
      "outputs": [],
      "source": [
        "#!pip install seaborn\n",
        "# Install seaborn (needed to plot confusion matrix) by uncommenting the above line"
      ]
    },
    {
      "cell_type": "markdown",
      "metadata": {
        "id": "U7zqmtS_nni6"
      },
      "source": [
        "## Create functions to calculate forward pass & backward propagation."
      ]
    },
    {
      "cell_type": "markdown",
      "metadata": {
        "id": "fAcwEgoanni6"
      },
      "source": [
        "Dataset = A mini batch of Fashion-MNIST dataset\n",
        "1. M = # of features = 784\n",
        "2. D = # of hidden nodes (hidden units) = 256\n",
        "3. K = # of classes = 10"
      ]
    },
    {
      "cell_type": "code",
      "execution_count": 30,
      "metadata": {
        "id": "Mbfafttqnni7"
      },
      "outputs": [],
      "source": [
        "def sigmoid_forward(a): \n",
        "    # calculates the sigmoid activation function\n",
        "    # a: pre-activation values (nodes in hidden layer)\n",
        "    # returns: activated values\n",
        "\n",
        "    z = 1/(np.exp(-a)+1) \n",
        "    return z\n",
        "\n",
        "def sigmoid_backward(grad_accum, a): \n",
        "    # grad_accum: the gradient of the loss function w.r.t to z\n",
        "    # a: the pre-activation values\n",
        "    # returns: the gradient of the loss w.r.t to the preactivation values, a\n",
        "    \n",
        "    # derivative of sigmoid = sigmoid(a)*(1-sigmoid(a))\n",
        "    sig_grad = sigmoid_forward(a) * (1 - sigmoid_forward(a))\n",
        "    dl_da = grad_accum.reshape(-1,1) * sig_grad.reshape(-1,1)\n",
        "    return dl_da\n",
        "\n",
        "\n",
        "def linear_forward(x, weight, bias):\n",
        "    # Computes the forward pass of the linear layer\n",
        "    # x: input of layer\n",
        "    # weight, bias: weights and bias of neural network layer\n",
        "    # returns: output of linear layer\n",
        "    \n",
        "    return np.dot(weight, x) + bias\n",
        "\n",
        "\n",
        "def linear_backward(grad_accum, x, weight, bias): \n",
        "    \n",
        "    dl_dw = np.dot(grad_accum.reshape(1, -1).T, x.reshape(-1,1).T)\n",
        "\n",
        "    dl_dbias = grad_accum.reshape(1,-1)\n",
        "    \n",
        "    dl_dx = np.dot(weight.T, grad_accum.reshape(-1, 1))\n",
        "    \n",
        "    return dl_dw, dl_dbias, dl_dx\n",
        "    \n",
        "\n",
        "\n",
        "def softmax_xeloss_forward(b, labels): \n",
        "    # Input parameters: \n",
        "    # b: pre-activation \n",
        "    # calculates the softmax of the vector b\n",
        "    # calculates the cross entropy loss between the softmax of b and the labels \n",
        "    # returns: l\n",
        "    \n",
        "    yhat = np.divide(np.exp(b), np.sum(np.exp(b), axis=0)) \n",
        "    # cross entropy loss = sum of -ylog(y_hat)\n",
        "    a = b.shape[0]\n",
        "    L = np.multiply(-1/a, np.sum(labels*np.log(yhat), axis=0))\n",
        "    return yhat, L\n",
        "\n",
        "def softmax_xeloss_backward(yhat, labels): \n",
        "    # Input parameters:\n",
        "    # yhat: predictions of the neural network\n",
        "    # labels: target of the network\n",
        "    # returns: dl_db gradient of loss w.r.t to b\n",
        "    dl_db = (yhat - labels) \n",
        "    return dl_db\n",
        "      \n",
        "def data_load(data_zip = 'fashion_mnist.zip'):\n",
        "    # load in the data provided in \"data/\"\n",
        "    # Unzip fashion_mnist.zip\n",
        "    with zipfile.ZipFile(data_zip, 'r') as ZipObject:\n",
        "        ZipObject.extractall('data/')\n",
        "\n",
        "        \n",
        "def load_params():\n",
        "    alpha_weights = np.loadtxt('alpha1.txt', delimiter=',')\n",
        "    beta_weights = np.loadtxt('alpha2.txt', delimiter=',')\n",
        "    alpha_bias= np.loadtxt('beta1.txt', delimiter=',')\n",
        "    beta_bias = np.loadtxt('beta2.txt', delimiter=',')\n",
        "    return alpha_weights, beta_weights, alpha_bias, beta_bias\n",
        "\n",
        "\n",
        "def one_hot_encode(y):\n",
        "    # convert categorical target features to one hot encoded data\n",
        "    return pd.get_dummies(y.flatten()).to_numpy()\n",
        "\n",
        "\n",
        "def train(batchsize=1 , eta = 0.01, num_epochs=100, h = 256, init='default'):\n",
        "    \n",
        "    ## Extract MNIST dataset\n",
        "    directory = \"data\" # diretory (path)\n",
        "    # Check whether the specified directory exists in cwd or not\n",
        "    path = os.path.exists(directory)\n",
        "    if not path: # if data has not been extracted\n",
        "        data_load() # extract data\n",
        "        print(f'The data has been extracted and saved in the directory:\"{directory}\"')\n",
        "    \n",
        "    # load x_train & y_train data\n",
        "    xy_train = np.loadtxt('data/train.csv', dtype=str, delimiter=\",\")\n",
        "    xy_train = xy_train.astype(float)\n",
        "    print('The shape of x & y train data:', xy_train.shape)\n",
        "\n",
        "    \n",
        "    x_train = np.hsplit(xy_train, np.array([784]))[0] #verticle split\n",
        "    print('The shape of x_train:', x_train.shape)\n",
        "\n",
        "    \n",
        "    y_train = np.hsplit(xy_train, np.array([784]))[1] \n",
        "    print('The shape of y_train:', y_train.shape)\n",
        "    \n",
        "    \n",
        "    xy_test = np.loadtxt('data/test.csv', dtype=str, delimiter=\",\")\n",
        "    xy_test = xy_test.astype(float)\n",
        "    print('The shape of x & y test data:', xy_test.shape)\n",
        "\n",
        "    \n",
        "    x_test = np.hsplit(xy_test, np.array([784]))[0] # split vertically\n",
        "    print('The shape of x_test:', x_test.shape)\n",
        "\n",
        "    y_test = np.hsplit(xy_test, np.array([784]))[1] # split vertically\n",
        "    print('The shape of y_test:', y_test.shape)\n",
        "    print('\\n')\n",
        "    \n",
        "    \n",
        "    # one hot encode labels\n",
        "    y_train = one_hot_encode(y_train)\n",
        "    y_test = one_hot_encode(y_test)\n",
        "    \n",
        "    \n",
        "    # load initial weights and bias\n",
        "    if init == 'default':\n",
        "        alpha, beta, alpha_bias, beta_bias = load_params()\n",
        "    elif init=='zeros':\n",
        "        # initialize weights and biases to 0\n",
        "        alpha = np.zeros([h,784])\n",
        "        beta = np.zeros([10, h])\n",
        "        alpha_bias = np.zeros(h)\n",
        "        beta_bias = np.zeros(10)\n",
        "    elif init=='ones':\n",
        "        # initialize weights and biases to 1\n",
        "        alpha = np.ones([h,784])\n",
        "        beta = np.ones([10, h])\n",
        "        alpha_bias = np.ones(h)\n",
        "        beta_bias = np.ones(10)\n",
        "    elif init=='random':\n",
        "        # initialize weights and biases to random values between -1 and 1\n",
        "        alpha = np.random.uniform(low=-1, high=1, size=(256,784))\n",
        "        beta = np.random.uniform(low=-1, high=1, size=(10,256))\n",
        "        alpha_bias = np.random.uniform(low=-1, high=1, size=(256))\n",
        "        beta_bias = np.random.uniform(low=-1, high=1, size=(10))\n",
        "    \n",
        "    alpha_bias = alpha_bias.reshape(-1,1)\n",
        "    beta_bias = beta_bias.reshape(-1,1)\n",
        "    \n",
        "    \n",
        "    # initialized arrays to store losses and accuracy\n",
        "    train_loss_list = []\n",
        "    test_loss_list = []\n",
        "\n",
        "    for epoch in range(num_epochs):\n",
        "        acc = 0 \n",
        "        batch = 0 \n",
        "        train_loss_tot = 0\n",
        "        \n",
        "        dl_dalpha_sum = 0\n",
        "        dl_dbeta_sum = 0\n",
        "        dl_dalphabias_sum = 0\n",
        "        dl_dbetabias_sum = 0\n",
        "        # Iterate over batches of data (do not shuffle data)\n",
        "        for i in tqdm(range(len(x_train))):\n",
        "            x = x_train[i].reshape(-1,1)\n",
        "            y = y_train[i].reshape(-1,1)\n",
        "\n",
        "           \n",
        "            a = linear_forward(x, alpha, alpha_bias)\n",
        "          \n",
        "            z = sigmoid_forward(a)\n",
        "            ## OUTPUT LAYER:\n",
        "            # preactivated output layer nodes\n",
        "            b = linear_forward(z, beta, beta_bias)\n",
        "            b_to_l = softmax_xeloss_forward(b, y)\n",
        "            # y_pred\n",
        "            yhat = b_to_l[0]\n",
        "            # cross entropy loss of softmax-activated nodes\n",
        "            L = b_to_l[1]\n",
        "            \n",
        "            train_loss_tot += L\n",
        "            \n",
        "            ######## BACKWARD \n",
        "            ## OUTPUT LAYER:\n",
        "            # dL/db\n",
        "            dl_db = softmax_xeloss_backward(yhat, y)\n",
        "            ## HIDDEN LAYER:\n",
        "            l_to_z = linear_backward(dl_db, z, beta, beta_bias) # z is from feed forward\n",
        "            # dL/dbeta\n",
        "            dl_dbeta = l_to_z[0] \n",
        "            # dL/dbetabias\n",
        "            dl_dbetabias = l_to_z[1]\n",
        "            # dL/dz\n",
        "            dl_dz = l_to_z[2]\n",
        "            # dL/da\n",
        "            dl_da = sigmoid_backward(dl_dz, a) \n",
        "            ## INPUT LAYER:\n",
        "            # input layer nodes\n",
        "            l_to_x = linear_backward(dl_da, x, alpha, alpha_bias) \n",
        "            # dL/dalpha\n",
        "            dl_dalpha = l_to_x[0] \n",
        "            # dL/dalphabias\n",
        "            dl_dalphabias = l_to_x[1]\n",
        "            # dL/dx\n",
        "            dl_dx = l_to_x[2]\n",
        "            \n",
        "            ######## UPDATE RULES (update weights and biases at every batch)\n",
        "            dl_dalpha_sum += dl_dalpha\n",
        "            dl_dbeta_sum += dl_dbeta\n",
        "            dl_dalphabias_sum += dl_dalphabias\n",
        "            dl_dbetabias_sum += dl_dbetabias\n",
        "            if (i+1) % batchsize == 0:\n",
        "                alpha = alpha - eta*dl_dalpha_sum/batchsize\n",
        "                beta = beta - eta*dl_dbeta_sum/batchsize\n",
        "                alpha_bias = alpha_bias - eta*dl_dalphabias_sum.T/batchsize\n",
        "                beta_bias = beta_bias - eta*dl_dbetabias_sum.T/batchsize\n",
        "                \n",
        "                # reset\n",
        "                dl_dalpha_sum = 0\n",
        "                dl_dbeta_sum = 0\n",
        "                dl_dalphabias_sum = 0\n",
        "                dl_dbetabias_sum = 0\n",
        "            \n",
        "            ######## ACCURACY\n",
        "            acc += (np.argmax(yhat)==np.argmax(y)) \n",
        "            batch += 1 \n",
        "        \n",
        "        # printout train accuracy at each epoch\n",
        "        print(f'epochs: {epoch}, Train Accuracy: {acc/batch * 100}%')\n",
        "        \n",
        "        # store train loss for each epoch\n",
        "        train_loss_list.append(train_loss_tot/3000)\n",
        "        \n",
        "        # calculate test predictions and loss at each epoch\n",
        "        acc = 0\n",
        "        batch = 0\n",
        "        yhat_test_class = []\n",
        "        test_loss_tot = 0\n",
        "        for j in range(len(x_test)): \n",
        "            x = x_test[j].reshape(-1,1)\n",
        "            y = y_test[j].reshape(-1,1)\n",
        "            \n",
        "            ######## FEED FORWARD \n",
        "            ## HIDDEN LAYER:\n",
        "            \n",
        "            a = linear_forward(x, alpha, alpha_bias)\n",
        "           \n",
        "            z = sigmoid_forward(a)\n",
        "            ## OUTPUT LAYER:\n",
        "           \n",
        "            b = linear_forward(z, beta, beta_bias)\n",
        "            b_to_l = softmax_xeloss_forward(b, y)\n",
        "            # y_pred\n",
        "            yhat = b_to_l[0]\n",
        "            L = b_to_l[1]            \n",
        "            test_loss_tot += L\n",
        "            # calculate test accuracy\n",
        "            acc += (np.argmax(yhat)==np.argmax(y)) \n",
        "            batch += 1\n",
        "            \n",
        "            # test set predictions (y_pred from test set)\n",
        "            yhat_test_class = np.append(yhat_test_class, np.argmax(yhat))\n",
        "            \n",
        "        # printout test accuracy at each epoch\n",
        "        print(f'epochs: {epoch+1}, Test Accuracy: {acc/batch * 100}%')\n",
        "        \n",
        "        # store test loss for each epoch\n",
        "        test_loss_list.append(test_loss_tot/1000)\n",
        "        \n",
        "    return alpha, beta, alpha_bias, beta_bias, acc, train_loss_list, test_loss_list, yhat_test_class\n",
        "    \n"
      ]
    },
    {
      "cell_type": "code",
      "execution_count": 9,
      "metadata": {
        "scrolled": true,
        "colab": {
          "base_uri": "https://localhost:8080/"
        },
        "id": "i3hU_Gwenni-",
        "outputId": "a797d16c-ee67-4e4a-9dc6-3f1dee3f5527"
      },
      "outputs": [
        {
          "output_type": "stream",
          "name": "stdout",
          "text": [
            "The data has been extracted and saved in the directory:\"data\"\n",
            "The shape of x & y train data: (3000, 785)\n",
            "The shape of x_train: (3000, 784)\n",
            "The shape of y_train: (3000, 1)\n",
            "The shape of x & y test data: (1000, 785)\n",
            "The shape of x_test: (1000, 784)\n",
            "The shape of y_test: (1000, 1)\n",
            "\n",
            "\n"
          ]
        },
        {
          "output_type": "stream",
          "name": "stderr",
          "text": [
            "100%|██████████| 3000/3000 [00:12<00:00, 246.05it/s]\n"
          ]
        },
        {
          "output_type": "stream",
          "name": "stdout",
          "text": [
            "epochs: 0, Train Accuracy: 55.96666666666666%\n",
            "epochs: 1, Test Accuracy: 66.3%\n"
          ]
        },
        {
          "output_type": "stream",
          "name": "stderr",
          "text": [
            "100%|██████████| 3000/3000 [00:11<00:00, 268.04it/s]\n"
          ]
        },
        {
          "output_type": "stream",
          "name": "stdout",
          "text": [
            "epochs: 1, Train Accuracy: 71.43333333333334%\n",
            "epochs: 2, Test Accuracy: 69.8%\n"
          ]
        },
        {
          "output_type": "stream",
          "name": "stderr",
          "text": [
            "100%|██████████| 3000/3000 [00:11<00:00, 255.50it/s]\n"
          ]
        },
        {
          "output_type": "stream",
          "name": "stdout",
          "text": [
            "epochs: 2, Train Accuracy: 75.76666666666667%\n",
            "epochs: 3, Test Accuracy: 70.89999999999999%\n"
          ]
        },
        {
          "output_type": "stream",
          "name": "stderr",
          "text": [
            "100%|██████████| 3000/3000 [00:13<00:00, 221.62it/s]\n"
          ]
        },
        {
          "output_type": "stream",
          "name": "stdout",
          "text": [
            "epochs: 3, Train Accuracy: 79.46666666666667%\n",
            "epochs: 4, Test Accuracy: 72.2%\n"
          ]
        },
        {
          "output_type": "stream",
          "name": "stderr",
          "text": [
            "100%|██████████| 3000/3000 [00:11<00:00, 257.95it/s]\n"
          ]
        },
        {
          "output_type": "stream",
          "name": "stdout",
          "text": [
            "epochs: 4, Train Accuracy: 81.26666666666667%\n",
            "epochs: 5, Test Accuracy: 72.39999999999999%\n"
          ]
        },
        {
          "output_type": "stream",
          "name": "stderr",
          "text": [
            "100%|██████████| 3000/3000 [00:12<00:00, 240.90it/s]\n"
          ]
        },
        {
          "output_type": "stream",
          "name": "stdout",
          "text": [
            "epochs: 5, Train Accuracy: 83.3%\n",
            "epochs: 6, Test Accuracy: 73.2%\n"
          ]
        },
        {
          "output_type": "stream",
          "name": "stderr",
          "text": [
            "100%|██████████| 3000/3000 [00:12<00:00, 249.80it/s]\n"
          ]
        },
        {
          "output_type": "stream",
          "name": "stdout",
          "text": [
            "epochs: 6, Train Accuracy: 84.96666666666667%\n",
            "epochs: 7, Test Accuracy: 73.5%\n"
          ]
        },
        {
          "output_type": "stream",
          "name": "stderr",
          "text": [
            "100%|██████████| 3000/3000 [00:12<00:00, 249.28it/s]\n"
          ]
        },
        {
          "output_type": "stream",
          "name": "stdout",
          "text": [
            "epochs: 7, Train Accuracy: 86.63333333333333%\n",
            "epochs: 8, Test Accuracy: 74.4%\n"
          ]
        },
        {
          "output_type": "stream",
          "name": "stderr",
          "text": [
            "100%|██████████| 3000/3000 [00:12<00:00, 239.14it/s]\n"
          ]
        },
        {
          "output_type": "stream",
          "name": "stdout",
          "text": [
            "epochs: 8, Train Accuracy: 88.56666666666668%\n",
            "epochs: 9, Test Accuracy: 75.0%\n"
          ]
        },
        {
          "output_type": "stream",
          "name": "stderr",
          "text": [
            "100%|██████████| 3000/3000 [00:11<00:00, 252.73it/s]\n"
          ]
        },
        {
          "output_type": "stream",
          "name": "stdout",
          "text": [
            "epochs: 9, Train Accuracy: 89.93333333333334%\n",
            "epochs: 10, Test Accuracy: 75.9%\n"
          ]
        },
        {
          "output_type": "stream",
          "name": "stderr",
          "text": [
            "100%|██████████| 3000/3000 [00:11<00:00, 255.10it/s]\n"
          ]
        },
        {
          "output_type": "stream",
          "name": "stdout",
          "text": [
            "epochs: 10, Train Accuracy: 90.93333333333334%\n",
            "epochs: 11, Test Accuracy: 76.3%\n"
          ]
        },
        {
          "output_type": "stream",
          "name": "stderr",
          "text": [
            "100%|██████████| 3000/3000 [00:11<00:00, 262.53it/s]\n"
          ]
        },
        {
          "output_type": "stream",
          "name": "stdout",
          "text": [
            "epochs: 11, Train Accuracy: 91.7%\n",
            "epochs: 12, Test Accuracy: 76.4%\n"
          ]
        },
        {
          "output_type": "stream",
          "name": "stderr",
          "text": [
            "100%|██████████| 3000/3000 [00:13<00:00, 217.51it/s]\n"
          ]
        },
        {
          "output_type": "stream",
          "name": "stdout",
          "text": [
            "epochs: 12, Train Accuracy: 92.4%\n",
            "epochs: 13, Test Accuracy: 76.3%\n"
          ]
        },
        {
          "output_type": "stream",
          "name": "stderr",
          "text": [
            "100%|██████████| 3000/3000 [00:11<00:00, 252.85it/s]\n"
          ]
        },
        {
          "output_type": "stream",
          "name": "stdout",
          "text": [
            "epochs: 13, Train Accuracy: 93.10000000000001%\n",
            "epochs: 14, Test Accuracy: 77.0%\n"
          ]
        },
        {
          "output_type": "stream",
          "name": "stderr",
          "text": [
            "100%|██████████| 3000/3000 [00:11<00:00, 264.35it/s]\n"
          ]
        },
        {
          "output_type": "stream",
          "name": "stdout",
          "text": [
            "epochs: 14, Train Accuracy: 93.93333333333334%\n",
            "epochs: 15, Test Accuracy: 76.9%\n"
          ]
        },
        {
          "output_type": "stream",
          "name": "stderr",
          "text": [
            "100%|██████████| 3000/3000 [00:11<00:00, 256.59it/s]\n"
          ]
        },
        {
          "output_type": "stream",
          "name": "stdout",
          "text": [
            "epochs: 15, Train Accuracy: 94.56666666666666%\n",
            "epochs: 16, Test Accuracy: 77.2%\n"
          ]
        },
        {
          "output_type": "stream",
          "name": "stderr",
          "text": [
            "100%|██████████| 3000/3000 [00:12<00:00, 249.45it/s]\n"
          ]
        },
        {
          "output_type": "stream",
          "name": "stdout",
          "text": [
            "epochs: 16, Train Accuracy: 95.1%\n",
            "epochs: 17, Test Accuracy: 77.0%\n"
          ]
        },
        {
          "output_type": "stream",
          "name": "stderr",
          "text": [
            "100%|██████████| 3000/3000 [00:12<00:00, 248.20it/s]\n"
          ]
        },
        {
          "output_type": "stream",
          "name": "stdout",
          "text": [
            "epochs: 17, Train Accuracy: 95.7%\n",
            "epochs: 18, Test Accuracy: 76.7%\n"
          ]
        },
        {
          "output_type": "stream",
          "name": "stderr",
          "text": [
            "100%|██████████| 3000/3000 [00:11<00:00, 253.79it/s]\n"
          ]
        },
        {
          "output_type": "stream",
          "name": "stdout",
          "text": [
            "epochs: 18, Train Accuracy: 96.0%\n",
            "epochs: 19, Test Accuracy: 77.0%\n"
          ]
        },
        {
          "output_type": "stream",
          "name": "stderr",
          "text": [
            "100%|██████████| 3000/3000 [00:11<00:00, 251.96it/s]\n"
          ]
        },
        {
          "output_type": "stream",
          "name": "stdout",
          "text": [
            "epochs: 19, Train Accuracy: 96.16666666666667%\n",
            "epochs: 20, Test Accuracy: 77.10000000000001%\n"
          ]
        }
      ],
      "source": [
        "results = train(batchsize=1 , eta = 0.01, num_epochs=20, h = 256, init='default')\n"
      ]
    },
    {
      "cell_type": "code",
      "execution_count": 29,
      "metadata": {
        "scrolled": true,
        "id": "QLg01qNynni_"
      },
      "outputs": [],
      "source": []
    },
    {
      "cell_type": "code",
      "execution_count": 11,
      "metadata": {
        "colab": {
          "base_uri": "https://localhost:8080/"
        },
        "id": "YVs2BIzinnjA",
        "outputId": "c152d13c-4473-4358-8cdd-142e98e93f49"
      },
      "outputs": [
        {
          "output_type": "stream",
          "name": "stdout",
          "text": [
            "[[ 0.60556094  0.64251342  0.05719769 ... -1.07437975 -0.90544484\n",
            "  -0.69417979]\n",
            " [-0.68366859 -0.2859098   0.1710004  ...  0.5742716  -0.25100886\n",
            "   0.19137132]\n",
            " [-1.36693525 -0.72849636  1.32733563 ...  1.79037211 -0.06089595\n",
            "  -1.1964199 ]\n",
            " ...\n",
            " [ 1.01780908 -0.7129331  -1.28087504 ... -0.6101767  -1.04511739\n",
            "   0.35808765]\n",
            " [-0.12887038  0.31563416 -1.18218326 ...  2.30699913  0.03362666\n",
            "  -0.47303666]\n",
            " [-1.56878674 -0.00803166 -0.69942799 ... -0.74694452  0.37257835\n",
            "  -0.08937792]]\n",
            "[[ 1.12150703 -0.7855394  -0.39743352 ...  0.34799753  0.44493597\n",
            "   0.191203  ]\n",
            " [-2.07565708  1.30457082 -1.34137265 ...  0.10985056  0.71228189\n",
            "  -1.67358894]\n",
            " [ 0.60908333  1.49220225  1.22452121 ... -1.17429708 -1.94073157\n",
            "  -0.71198464]\n",
            " ...\n",
            " [ 0.78028752 -0.29842505 -1.08987105 ...  0.56945539  1.6107854\n",
            "   0.67901575]\n",
            " [-0.24324094 -1.59740634 -0.09778913 ...  1.29233199  0.42826464\n",
            "  -0.57909441]\n",
            " [ 0.81799139  0.7703427  -0.72344032 ... -0.7380797   0.91877806\n",
            "   0.62392106]]\n",
            "[[ 0.06231657]\n",
            " [-0.36834248]\n",
            " [ 0.48366628]\n",
            " [ 2.22940827]\n",
            " [ 0.38056579]\n",
            " [ 0.83662324]\n",
            " [ 1.27169298]\n",
            " [ 0.49188955]\n",
            " [-0.63350828]\n",
            " [-0.37674481]\n",
            " [-0.18658117]\n",
            " [ 0.03013453]\n",
            " [-0.63555702]\n",
            " [ 1.21169103]\n",
            " [-1.86869018]\n",
            " [-0.9198004 ]\n",
            " [-1.29887039]\n",
            " [ 0.40580662]\n",
            " [ 0.63202405]\n",
            " [ 0.46523026]\n",
            " [ 0.45979257]\n",
            " [ 0.34764262]\n",
            " [ 1.15489245]\n",
            " [ 1.10516209]\n",
            " [ 1.77955739]\n",
            " [-1.46272238]\n",
            " [ 0.4004849 ]\n",
            " [ 2.54731225]\n",
            " [-0.53492569]\n",
            " [-0.04829014]\n",
            " [ 1.08914624]\n",
            " [ 0.84790867]\n",
            " [-0.0181704 ]\n",
            " [-0.10989223]\n",
            " [ 1.18564425]\n",
            " [-0.82052423]\n",
            " [ 1.22387547]\n",
            " [ 0.15435194]\n",
            " [-0.56205428]\n",
            " [ 1.41227179]\n",
            " [ 0.36964672]\n",
            " [ 2.05656383]\n",
            " [ 0.50757125]\n",
            " [-1.94708074]\n",
            " [-0.51378981]\n",
            " [-0.34913457]\n",
            " [ 0.78068765]\n",
            " [ 0.37442638]\n",
            " [ 0.39888527]\n",
            " [-0.21486255]\n",
            " [-0.79109733]\n",
            " [-1.18875719]\n",
            " [ 1.84409894]\n",
            " [-1.02277468]\n",
            " [-0.74657279]\n",
            " [ 0.67457827]\n",
            " [ 0.05324021]\n",
            " [-0.22044046]\n",
            " [-0.22349236]\n",
            " [-0.18600117]\n",
            " [ 0.09084139]\n",
            " [-0.21067754]\n",
            " [-0.47138039]\n",
            " [-0.4787446 ]\n",
            " [ 0.8212331 ]\n",
            " [ 0.51422314]\n",
            " [-1.40764758]\n",
            " [ 0.98959792]\n",
            " [-0.0261327 ]\n",
            " [ 0.79021097]\n",
            " [-0.74954227]\n",
            " [ 0.46472054]\n",
            " [-1.99506463]\n",
            " [ 1.39204907]\n",
            " [-0.71641493]\n",
            " [-0.3070378 ]\n",
            " [ 0.54617263]\n",
            " [ 0.40511808]\n",
            " [ 0.88151858]\n",
            " [-0.1304306 ]\n",
            " [-1.46972166]\n",
            " [ 0.3671025 ]\n",
            " [-1.69621639]\n",
            " [-1.55006774]\n",
            " [ 0.53388794]\n",
            " [-0.10530038]\n",
            " [ 0.91141025]\n",
            " [ 1.57983454]\n",
            " [ 0.94713445]\n",
            " [-0.22727919]\n",
            " [-1.21106569]\n",
            " [ 0.81012355]\n",
            " [ 0.2206503 ]\n",
            " [ 1.05636773]\n",
            " [ 0.80153024]\n",
            " [ 0.7044055 ]\n",
            " [ 0.53755181]\n",
            " [ 1.0257591 ]\n",
            " [-1.02583333]\n",
            " [ 2.01416143]\n",
            " [ 1.29653845]\n",
            " [-0.58106076]\n",
            " [-0.16152209]\n",
            " [-0.67529144]\n",
            " [ 0.21210276]\n",
            " [-0.79022577]\n",
            " [ 0.80014347]\n",
            " [ 0.19046642]\n",
            " [ 1.27732063]\n",
            " [-0.32948544]\n",
            " [-0.30865645]\n",
            " [-0.3212175 ]\n",
            " [ 1.30124448]\n",
            " [ 0.45242034]\n",
            " [ 0.97894771]\n",
            " [ 1.30547984]\n",
            " [-0.38305735]\n",
            " [-2.20328114]\n",
            " [-0.79122953]\n",
            " [-0.25374959]\n",
            " [-0.78970504]\n",
            " [-0.1780863 ]\n",
            " [-0.25147673]\n",
            " [ 0.31335782]\n",
            " [ 2.23371738]\n",
            " [-0.47353593]\n",
            " [-0.86767211]\n",
            " [-1.59451091]\n",
            " [-1.31183206]\n",
            " [-1.13525396]\n",
            " [-2.41902645]\n",
            " [-1.80220613]\n",
            " [ 0.22012352]\n",
            " [ 0.85660122]\n",
            " [-0.92238522]\n",
            " [ 1.3407499 ]\n",
            " [-0.5136694 ]\n",
            " [ 0.03213098]\n",
            " [-1.25623484]\n",
            " [ 0.7908021 ]\n",
            " [-0.48053534]\n",
            " [-1.48803626]\n",
            " [-0.4633544 ]\n",
            " [ 1.72949303]\n",
            " [-0.85972333]\n",
            " [ 0.21013424]\n",
            " [ 0.630447  ]\n",
            " [ 0.22784612]\n",
            " [-0.67604316]\n",
            " [-1.20997922]\n",
            " [ 0.82348081]\n",
            " [-1.59860223]\n",
            " [-0.44213718]\n",
            " [ 1.35982024]\n",
            " [ 0.88011978]\n",
            " [-0.86493299]\n",
            " [ 0.68379491]\n",
            " [-0.15289319]\n",
            " [-0.45518344]\n",
            " [ 0.94303553]\n",
            " [ 0.50189154]\n",
            " [-0.73608682]\n",
            " [-0.86414967]\n",
            " [ 0.58885615]\n",
            " [ 0.35247732]\n",
            " [-0.62993106]\n",
            " [-0.92967716]\n",
            " [-1.12503947]\n",
            " [-0.10865957]\n",
            " [-0.58142071]\n",
            " [-0.67726656]\n",
            " [-0.43790552]\n",
            " [-0.6120399 ]\n",
            " [-1.5246723 ]\n",
            " [ 0.65671048]\n",
            " [-0.10318416]\n",
            " [-1.26077503]\n",
            " [ 0.26571465]\n",
            " [ 0.17307772]\n",
            " [-0.69711104]\n",
            " [-0.16777579]\n",
            " [ 0.38295321]\n",
            " [ 1.16289135]\n",
            " [-2.18605245]\n",
            " [ 0.11361307]\n",
            " [ 0.88891571]\n",
            " [-1.42170173]\n",
            " [-0.82848474]\n",
            " [ 0.67198993]\n",
            " [ 2.03812622]\n",
            " [-0.59764134]\n",
            " [ 1.64124598]\n",
            " [ 0.89669302]\n",
            " [ 0.94471581]\n",
            " [ 0.53275653]\n",
            " [ 0.38132827]\n",
            " [-0.12252735]\n",
            " [-0.53209293]\n",
            " [-0.92004295]\n",
            " [-1.38194998]\n",
            " [-0.08180397]\n",
            " [-0.17541132]\n",
            " [-0.90452307]\n",
            " [-0.52758007]\n",
            " [-0.20999988]\n",
            " [ 0.16997497]\n",
            " [-1.31527208]\n",
            " [ 1.36561933]\n",
            " [-0.63830035]\n",
            " [-1.05781788]\n",
            " [-1.734024  ]\n",
            " [-0.72064489]\n",
            " [-0.44883035]\n",
            " [-0.29050288]\n",
            " [ 0.9769228 ]\n",
            " [-0.81557292]\n",
            " [ 0.73664134]\n",
            " [-0.04516503]\n",
            " [ 0.07777255]\n",
            " [-0.43325069]\n",
            " [ 0.33463387]\n",
            " [ 1.40894073]\n",
            " [ 1.14943085]\n",
            " [-0.08954445]\n",
            " [ 0.31219512]\n",
            " [ 0.76093085]\n",
            " [-1.8189405 ]\n",
            " [ 0.97364974]\n",
            " [-1.54052473]\n",
            " [ 1.77861807]\n",
            " [-0.63791212]\n",
            " [ 0.33184558]\n",
            " [ 0.58822454]\n",
            " [-2.30839083]\n",
            " [-1.12292964]\n",
            " [ 0.04746352]\n",
            " [ 1.03078235]\n",
            " [ 1.4995297 ]\n",
            " [ 1.02120496]\n",
            " [-0.20694187]\n",
            " [ 0.11034073]\n",
            " [ 0.3914196 ]\n",
            " [-2.71607913]\n",
            " [-0.6553645 ]\n",
            " [-0.07071149]\n",
            " [-0.29516635]\n",
            " [ 2.08062762]\n",
            " [-1.92791422]\n",
            " [ 0.8658843 ]\n",
            " [-1.94434442]\n",
            " [-0.58733315]\n",
            " [ 0.29754915]\n",
            " [ 0.60277098]\n",
            " [-0.88477045]\n",
            " [ 0.2862458 ]\n",
            " [ 1.0707308 ]]\n",
            "[[-1.14168875]\n",
            " [-0.59434195]\n",
            " [-0.76084513]\n",
            " [ 0.59649058]\n",
            " [-0.24920929]\n",
            " [ 0.16205405]\n",
            " [-0.65055631]\n",
            " [ 0.14926745]\n",
            " [ 2.07894582]\n",
            " [ 0.39297818]]\n"
          ]
        }
      ],
      "source": [
        "#print(results[0]) # alpha weights\n",
        "#print(results[1]) # beta weights\n",
        "#print(results[2]) # alpha bias\n",
        "#print(results[3]) # beta bias\n"
      ]
    },
    {
      "cell_type": "code",
      "execution_count": 12,
      "metadata": {
        "colab": {
          "base_uri": "https://localhost:8080/"
        },
        "id": "mB8jUnqFnnjA",
        "outputId": "e1469c75-3e6e-4dda-ffec-5cc5ab57c8b9"
      },
      "outputs": [
        {
          "output_type": "stream",
          "name": "stdout",
          "text": [
            "[array([0.24036281]), array([0.11820164]), array([0.08983834]), array([0.07326552]), array([0.06193647]), array([0.05330853]), array([0.04654209]), array([0.04116138]), array([0.03680125]), array([0.03312256]), array([0.02999362]), array([0.02730596]), array([0.02498208]), array([0.02297115]), array([0.02122476]), array([0.01970182]), array([0.01836858]), array([0.0171901]), array([0.01613435]), array([0.01517695])]\n",
            "[array([0.15640226]), array([0.13888483]), array([0.12865524]), array([0.12232294]), array([0.11939964]), array([0.11683516]), array([0.1131551]), array([0.10894774]), array([0.1055918]), array([0.10289604]), array([0.10072258]), array([0.09902002]), array([0.09783671]), array([0.097076]), array([0.09660912]), array([0.0963307]), array([0.09616248]), array([0.09605844]), array([0.09600947]), array([0.09602584])]\n"
          ]
        }
      ],
      "source": [
        "print(results[5]) # train loss list\n",
        "print(results[6]) # test loss list"
      ]
    },
    {
      "cell_type": "markdown",
      "metadata": {
        "id": "6e41D3mOnnjB"
      },
      "source": [
        "# Plot Loss "
      ]
    },
    {
      "cell_type": "code",
      "execution_count": 13,
      "metadata": {
        "colab": {
          "base_uri": "https://localhost:8080/",
          "height": 295
        },
        "id": "6_1Xb6kXnnjB",
        "outputId": "0bcc5335-bc52-4d3b-a075-4d8647008eb6"
      },
      "outputs": [
        {
          "output_type": "display_data",
          "data": {
            "text/plain": [
              "<Figure size 432x288 with 1 Axes>"
            ],
            "image/png": "[encoded data removed]"
          },
          "metadata": {
            "needs_background": "light"
          }
        }
      ],
      "source": [
        "# Plot training loss, testing loss as a function of epochs\n",
        "plt.title(\"Cross Entropy Loss v/s Epochs\")\n",
        "plt.xlabel(\"Epochs\")\n",
        "plt.ylabel(\"Cross Entropy Loss\")\n",
        "plt.plot(np.linspace(1,20,20), results[5])\n",
        "plt.plot(np.linspace(1,20,20), results[6])\n",
        "plt.legend([\"x-train\", \"x-test\"])\n",
        "plt.show()"
      ]
    },
    {
      "cell_type": "markdown",
      "metadata": {
        "id": "J81_FjJEnnjB"
      },
      "source": [
        "## Manually load train & test data.\n"
      ]
    },
    {
      "cell_type": "code",
      "execution_count": 14,
      "metadata": {
        "colab": {
          "base_uri": "https://localhost:8080/"
        },
        "id": "1_MSH7mknnjB",
        "outputId": "30a4c01c-eb8f-4110-cd76-39183ecb9215"
      },
      "outputs": [
        {
          "output_type": "stream",
          "name": "stdout",
          "text": [
            "The shape of x & y train data: (3000, 785)\n",
            "The shape of x_train: (3000, 784)\n",
            "The shape of y_train: (3000, 1)\n"
          ]
        }
      ],
      "source": [
        "xy_train = np.loadtxt('data/train.csv', dtype=str, delimiter=\",\")\n",
        "xy_train = xy_train.astype(float)\n",
        "print('The shape of x & y train data:', xy_train.shape)\n",
        "\n",
        "x_train = np.hsplit(xy_train, np.array([784]))[0] \n",
        "print('The shape of x_train:', x_train.shape)\n",
        "\n",
        "# y_train \n",
        "y_train = np.hsplit(xy_train, np.array([784]))[1] \n",
        "print('The shape of y_train:', y_train.shape)"
      ]
    },
    {
      "cell_type": "code",
      "execution_count": 15,
      "metadata": {
        "colab": {
          "base_uri": "https://localhost:8080/"
        },
        "id": "q9YHpiYunnjC",
        "outputId": "0acd3ab4-7977-4539-9d9e-88cff835f42a"
      },
      "outputs": [
        {
          "output_type": "stream",
          "name": "stdout",
          "text": [
            "The shape of x & y test data: (1000, 785)\n",
            "The shape of x_test: (1000, 784)\n",
            "The shape of y_test: (1000, 1)\n"
          ]
        }
      ],
      "source": [
        "xy_test = np.loadtxt('data/test.csv', dtype=str, delimiter=\",\")\n",
        "xy_test = xy_test.astype(float)\n",
        "print('The shape of x & y test data:', xy_test.shape)\n",
        "\n",
        "x_test = np.hsplit(xy_test, np.array([784]))[0]\n",
        "print('The shape of x_test:', x_test.shape)\n",
        "\n",
        "y_test = np.hsplit(xy_test, np.array([784]))[1]\n",
        "print('The shape of y_test:', y_test.shape)"
      ]
    },
    {
      "cell_type": "markdown",
      "metadata": {
        "id": "FxvX_zC0nnjC"
      },
      "source": [
        "# Confusion Matrix"
      ]
    },
    {
      "cell_type": "code",
      "execution_count": 16,
      "metadata": {
        "id": "Pgudc-EJnnjC"
      },
      "outputs": [],
      "source": [
        "def plot_confusion(yhat, y, title = '[Training or Test] Set'):\n",
        "      \n",
        "    pred_train = yhat\n",
        "    true_train = y\n",
        "    conf_train = np.zeros((10,10)) \n",
        "    for i in range(len(y)):\n",
        "        conf_train[true_train[i], pred_train[i]] += int(1)\n",
        "        \n",
        "    sns.heatmap(conf_train, annot=True, fmt='.3g')\n",
        "    plt.xlabel('Predicted Labels')\n",
        "    plt.ylabel('True Labels')\n",
        "    plt.title('Confusion Matrix')\n",
        "    plt.show()"
      ]
    },
    {
      "cell_type": "code",
      "execution_count": 17,
      "metadata": {
        "colab": {
          "base_uri": "https://localhost:8080/"
        },
        "id": "CRabOba-nnjC",
        "outputId": "3a2c28df-c606-4880-82fd-9fa4d06e9a81"
      },
      "outputs": [
        {
          "output_type": "stream",
          "name": "stdout",
          "text": [
            "(1000, 1)\n"
          ]
        }
      ],
      "source": [
        "# classes of test groundtruth labels\n",
        "y_test_class = []\n",
        "for row in one_hot_encode(y_test):\n",
        "    y_test_class = np.append(y_test_class, np.argmax(row))\n",
        "y_test_class = y_test_class.reshape(-1,1).astype(int)\n",
        "\n",
        "print(y_test_class.shape)"
      ]
    },
    {
      "cell_type": "code",
      "execution_count": 18,
      "metadata": {
        "colab": {
          "base_uri": "https://localhost:8080/"
        },
        "id": "gCmODeS0nnjD",
        "outputId": "2911f5c3-c0b3-431b-ebeb-540a2beccaba"
      },
      "outputs": [
        {
          "output_type": "stream",
          "name": "stdout",
          "text": [
            "(1000, 1)\n"
          ]
        }
      ],
      "source": [
        "# class of test predictions\n",
        "yhat_test_class = results[7] # test set predictions (y_pred from test set)\n",
        "yhat_test_class = yhat_test_class.reshape(-1,1).astype(int)\n",
        "print(yhat_test_class.shape)\n"
      ]
    },
    {
      "cell_type": "code",
      "execution_count": 19,
      "metadata": {
        "colab": {
          "base_uri": "https://localhost:8080/",
          "height": 645
        },
        "id": "c9fhCDOpnnjD",
        "outputId": "737bdb86-39a5-4284-82e3-d7a22e84d4d9"
      },
      "outputs": [
        {
          "output_type": "display_data",
          "data": {
            "text/plain": [
              "<Figure size 750x750 with 2 Axes>"
            ],
            "image/png": "[encoded data removed]"
          },
          "metadata": {
            "needs_background": "light"
          }
        }
      ],
      "source": [
        "# Confusion matrix\n",
        "plt.figure(figsize=(10, 10), dpi=75)\n",
        "plot_confusion(yhat_test_class, y_test_class, title='Test Set')"
      ]
    },
    {
      "cell_type": "markdown",
      "metadata": {
        "id": "8V9oXsSMnnjE"
      },
      "source": [
        "# Correct and Incorrect Classification Samples"
      ]
    },
    {
      "cell_type": "code",
      "execution_count": 20,
      "metadata": {
        "id": "NFLbvzV-nnjE"
      },
      "outputs": [],
      "source": [
        "def plot_image(vector, out_f_name, label=None):\n",
        "   \n",
        "    image = np.asarray(vector).reshape(28, 28)\n",
        "    plt.imshow(image, cmap='gray')\n",
        "    if label:\n",
        "        plt.title(label)\n",
        "    plt.axis('off')\n",
        "    plt.savefig(f'{out_f_name}.png', bbox_inches='tight')\n",
        "    plt.show()"
      ]
    },
    {
      "cell_type": "code",
      "execution_count": 21,
      "metadata": {
        "id": "ChCSbRj5nnjE"
      },
      "outputs": [],
      "source": [
        "class_interest = 0 "
      ]
    },
    {
      "cell_type": "code",
      "execution_count": 22,
      "metadata": {
        "colab": {
          "base_uri": "https://localhost:8080/"
        },
        "id": "mU0Hdj4snnjF",
        "outputId": "1d69ccd3-a5c3-425e-92c2-08b815e1597e"
      },
      "outputs": [
        {
          "output_type": "stream",
          "name": "stdout",
          "text": [
            "[  7.  53. 133. 147. 150. 181. 244. 248. 250. 257. 308. 319. 367. 392.\n",
            " 399. 413. 434. 442. 452. 485. 530. 545. 579. 612. 654. 670. 678. 749.\n",
            " 770. 793. 825. 854. 855. 870. 896. 920. 943. 972.]\n",
            "\n",
            "There are 38 confusions (miss-predicted) images for class 0.\n"
          ]
        }
      ],
      "source": [
        "# confusions (miss-predicted) images\n",
        "conf_index = [] # will collect indicies of confusions\n",
        "for i, cl in enumerate(yhat_test_class):\n",
        "    if cl == class_interest and cl != y_test_class[i]:\n",
        "        conf_index = np.append(conf_index, i) # indices of confusions\n",
        "print(conf_index)\n",
        "print(f'\\nThere are {len(conf_index)} confusions (miss-predicted) images for class {class_interest}.')\n"
      ]
    },
    {
      "cell_type": "code",
      "execution_count": 23,
      "metadata": {
        "colab": {
          "base_uri": "https://localhost:8080/"
        },
        "id": "ztRnc0VnnnjF",
        "outputId": "efdb6ce5-b9f7-48e5-ff22-134792a42b91"
      },
      "outputs": [
        {
          "output_type": "stream",
          "name": "stdout",
          "text": [
            "[ 32.  36.  56.  60.  74.  84.  86.  98. 108. 118. 119. 125. 157. 174.\n",
            " 210. 240. 246. 251. 278. 284. 291. 300. 334. 341. 347. 353. 369. 379.\n",
            " 382. 394. 395. 404. 407. 408. 431. 433. 438. 458. 464. 493. 494. 495.\n",
            " 528. 535. 550. 556. 582. 592. 593. 600. 602. 639. 642. 661. 662. 671.\n",
            " 691. 697. 702. 761. 773. 789. 801. 831. 851. 875. 890. 893. 909. 911.\n",
            " 915. 921. 922. 929. 931. 933. 955. 964. 967. 974.]\n",
            "\n",
            "There are 80 correctly predicted images for class 0.\n"
          ]
        }
      ],
      "source": [
        "# correctly predicted images\n",
        "corr_index = [] # will collect indicies of correct predictions\n",
        "for i, cl in enumerate(yhat_test_class):\n",
        "    if cl == class_interest and cl == y_test_class[i]:\n",
        "        corr_index = np.append(corr_index, i) \n",
        "print(corr_index)\n",
        "print(f'\\nThere are {len(corr_index)} correctly predicted images for class {class_interest}.')\n"
      ]
    },
    {
      "cell_type": "code",
      "execution_count": 24,
      "metadata": {
        "colab": {
          "base_uri": "https://localhost:8080/",
          "height": 140
        },
        "id": "YeNJWSU5nnjF",
        "outputId": "5d7bd024-b53f-44e4-f857-11bebe594c51"
      },
      "outputs": [
        {
          "output_type": "display_data",
          "data": {
            "text/plain": [
              "<Figure size 144x144 with 1 Axes>"
            ],
            "image/png": "[encoded data removed]"
          },
          "metadata": {
            "needs_background": "light"
          }
        }
      ],
      "source": [
        "# Use plot_image function to display a sample that is correctly predicted\n",
        "corr_ind = np.random.choice(corr_index).astype(int) \n",
        "correct_img = x_test[corr_ind] \n",
        "plt.figure(figsize=(2,2))\n",
        "plot_image(correct_img, 'correctly_predicted_image', label=None)"
      ]
    },
    {
      "cell_type": "code",
      "execution_count": 25,
      "metadata": {
        "colab": {
          "base_uri": "https://localhost:8080/",
          "height": 140
        },
        "id": "Que1Rya-nnjG",
        "outputId": "a28fe29b-9256-40de-c625-10c83352a81c"
      },
      "outputs": [
        {
          "output_type": "display_data",
          "data": {
            "text/plain": [
              "<Figure size 144x144 with 1 Axes>"
            ],
            "image/png": "[encoded data removed]"
          },
          "metadata": {
            "needs_background": "light"
          }
        }
      ],
      "source": [
        "# Use plot_image function to display a sample that is miss-predicted\n",
        "conf_ind = np.random.choice(conf_index).astype(int) # index of correctly predicted image\n",
        "conf_img = x_test[conf_ind] # confusion (miss-predicted image)\n",
        "plt.figure(figsize=(2,2))\n",
        "plot_image(conf_img, 'miss_predicted_image', label=None)"
      ]
    },
    {
      "cell_type": "markdown",
      "metadata": {
        "id": "oZBERBsrnnjG"
      },
      "source": [
        "# Effect Of Learning Rate"
      ]
    },
    {
      "cell_type": "code",
      "execution_count": 26,
      "metadata": {
        "colab": {
          "base_uri": "https://localhost:8080/"
        },
        "id": "K4efVGu_nnjG",
        "outputId": "a21416ed-42eb-4680-ca45-db95d52373f2"
      },
      "outputs": [
        {
          "output_type": "stream",
          "name": "stdout",
          "text": [
            "The shape of x & y train data: (3000, 785)\n",
            "The shape of x_train: (3000, 784)\n",
            "The shape of y_train: (3000, 1)\n",
            "The shape of x & y test data: (1000, 785)\n",
            "The shape of x_test: (1000, 784)\n",
            "The shape of y_test: (1000, 1)\n",
            "\n",
            "\n"
          ]
        },
        {
          "output_type": "stream",
          "name": "stderr",
          "text": [
            "100%|██████████| 3000/3000 [00:04<00:00, 649.63it/s]\n"
          ]
        },
        {
          "output_type": "stream",
          "name": "stdout",
          "text": [
            "epochs: 0, Train Accuracy: 51.76666666666667%\n",
            "epochs: 1, Test Accuracy: 66.10000000000001%\n"
          ]
        },
        {
          "output_type": "stream",
          "name": "stderr",
          "text": [
            "100%|██████████| 3000/3000 [00:04<00:00, 677.16it/s]\n"
          ]
        },
        {
          "output_type": "stream",
          "name": "stdout",
          "text": [
            "epochs: 1, Train Accuracy: 68.06666666666666%\n",
            "epochs: 2, Test Accuracy: 69.89999999999999%\n"
          ]
        },
        {
          "output_type": "stream",
          "name": "stderr",
          "text": [
            "100%|██████████| 3000/3000 [00:06<00:00, 451.98it/s]\n"
          ]
        },
        {
          "output_type": "stream",
          "name": "stdout",
          "text": [
            "epochs: 2, Train Accuracy: 72.23333333333333%\n",
            "epochs: 3, Test Accuracy: 69.6%\n"
          ]
        },
        {
          "output_type": "stream",
          "name": "stderr",
          "text": [
            "100%|██████████| 3000/3000 [00:04<00:00, 665.49it/s]\n"
          ]
        },
        {
          "output_type": "stream",
          "name": "stdout",
          "text": [
            "epochs: 3, Train Accuracy: 75.23333333333333%\n",
            "epochs: 4, Test Accuracy: 67.2%\n"
          ]
        },
        {
          "output_type": "stream",
          "name": "stderr",
          "text": [
            "100%|██████████| 3000/3000 [00:04<00:00, 610.61it/s]\n"
          ]
        },
        {
          "output_type": "stream",
          "name": "stdout",
          "text": [
            "epochs: 4, Train Accuracy: 76.03333333333333%\n",
            "epochs: 5, Test Accuracy: 70.8%\n"
          ]
        },
        {
          "output_type": "stream",
          "name": "stderr",
          "text": [
            "100%|██████████| 3000/3000 [00:04<00:00, 630.01it/s]\n"
          ]
        },
        {
          "output_type": "stream",
          "name": "stdout",
          "text": [
            "epochs: 5, Train Accuracy: 78.73333333333333%\n",
            "epochs: 6, Test Accuracy: 70.89999999999999%\n"
          ]
        },
        {
          "output_type": "stream",
          "name": "stderr",
          "text": [
            "100%|██████████| 3000/3000 [00:04<00:00, 641.10it/s]\n"
          ]
        },
        {
          "output_type": "stream",
          "name": "stdout",
          "text": [
            "epochs: 6, Train Accuracy: 80.76666666666667%\n",
            "epochs: 7, Test Accuracy: 73.3%\n"
          ]
        },
        {
          "output_type": "stream",
          "name": "stderr",
          "text": [
            "100%|██████████| 3000/3000 [00:04<00:00, 674.62it/s]\n"
          ]
        },
        {
          "output_type": "stream",
          "name": "stdout",
          "text": [
            "epochs: 7, Train Accuracy: 82.8%\n",
            "epochs: 8, Test Accuracy: 75.0%\n"
          ]
        },
        {
          "output_type": "stream",
          "name": "stderr",
          "text": [
            "100%|██████████| 3000/3000 [00:04<00:00, 688.98it/s]\n"
          ]
        },
        {
          "output_type": "stream",
          "name": "stdout",
          "text": [
            "epochs: 8, Train Accuracy: 83.2%\n",
            "epochs: 9, Test Accuracy: 76.5%\n"
          ]
        },
        {
          "output_type": "stream",
          "name": "stderr",
          "text": [
            "100%|██████████| 3000/3000 [00:04<00:00, 612.61it/s]\n"
          ]
        },
        {
          "output_type": "stream",
          "name": "stdout",
          "text": [
            "epochs: 9, Train Accuracy: 84.8%\n",
            "epochs: 10, Test Accuracy: 77.10000000000001%\n"
          ]
        },
        {
          "output_type": "stream",
          "name": "stderr",
          "text": [
            "100%|██████████| 3000/3000 [00:09<00:00, 310.09it/s]\n"
          ]
        },
        {
          "output_type": "stream",
          "name": "stdout",
          "text": [
            "epochs: 10, Train Accuracy: 86.5%\n",
            "epochs: 11, Test Accuracy: 76.5%\n"
          ]
        },
        {
          "output_type": "stream",
          "name": "stderr",
          "text": [
            "100%|██████████| 3000/3000 [00:07<00:00, 427.99it/s]\n"
          ]
        },
        {
          "output_type": "stream",
          "name": "stdout",
          "text": [
            "epochs: 11, Train Accuracy: 87.73333333333333%\n",
            "epochs: 12, Test Accuracy: 77.3%\n"
          ]
        },
        {
          "output_type": "stream",
          "name": "stderr",
          "text": [
            "100%|██████████| 3000/3000 [00:06<00:00, 494.83it/s]\n"
          ]
        },
        {
          "output_type": "stream",
          "name": "stdout",
          "text": [
            "epochs: 12, Train Accuracy: 88.56666666666668%\n",
            "epochs: 13, Test Accuracy: 77.8%\n"
          ]
        },
        {
          "output_type": "stream",
          "name": "stderr",
          "text": [
            "100%|██████████| 3000/3000 [00:04<00:00, 678.23it/s]\n"
          ]
        },
        {
          "output_type": "stream",
          "name": "stdout",
          "text": [
            "epochs: 13, Train Accuracy: 89.66666666666666%\n",
            "epochs: 14, Test Accuracy: 78.2%\n"
          ]
        },
        {
          "output_type": "stream",
          "name": "stderr",
          "text": [
            "100%|██████████| 3000/3000 [00:04<00:00, 603.96it/s]\n"
          ]
        },
        {
          "output_type": "stream",
          "name": "stdout",
          "text": [
            "epochs: 14, Train Accuracy: 90.23333333333333%\n",
            "epochs: 15, Test Accuracy: 78.0%\n"
          ]
        },
        {
          "output_type": "stream",
          "name": "stderr",
          "text": [
            "100%|██████████| 3000/3000 [00:04<00:00, 626.18it/s]\n"
          ]
        },
        {
          "output_type": "stream",
          "name": "stdout",
          "text": [
            "epochs: 15, Train Accuracy: 90.73333333333333%\n",
            "epochs: 16, Test Accuracy: 78.9%\n"
          ]
        },
        {
          "output_type": "stream",
          "name": "stderr",
          "text": [
            "100%|██████████| 3000/3000 [00:04<00:00, 611.66it/s]\n"
          ]
        },
        {
          "output_type": "stream",
          "name": "stdout",
          "text": [
            "epochs: 16, Train Accuracy: 90.86666666666666%\n",
            "epochs: 17, Test Accuracy: 79.10000000000001%\n"
          ]
        },
        {
          "output_type": "stream",
          "name": "stderr",
          "text": [
            "100%|██████████| 3000/3000 [00:04<00:00, 625.82it/s]\n"
          ]
        },
        {
          "output_type": "stream",
          "name": "stdout",
          "text": [
            "epochs: 17, Train Accuracy: 91.26666666666667%\n",
            "epochs: 18, Test Accuracy: 78.7%\n"
          ]
        },
        {
          "output_type": "stream",
          "name": "stderr",
          "text": [
            "100%|██████████| 3000/3000 [00:04<00:00, 709.11it/s]\n"
          ]
        },
        {
          "output_type": "stream",
          "name": "stdout",
          "text": [
            "epochs: 18, Train Accuracy: 91.73333333333333%\n",
            "epochs: 19, Test Accuracy: 79.0%\n"
          ]
        },
        {
          "output_type": "stream",
          "name": "stderr",
          "text": [
            "100%|██████████| 3000/3000 [00:04<00:00, 680.40it/s]\n"
          ]
        },
        {
          "output_type": "stream",
          "name": "stdout",
          "text": [
            "epochs: 19, Train Accuracy: 92.53333333333333%\n",
            "epochs: 20, Test Accuracy: 78.4%\n",
            "The shape of x & y train data: (3000, 785)\n",
            "The shape of x_train: (3000, 784)\n",
            "The shape of y_train: (3000, 1)\n",
            "The shape of x & y test data: (1000, 785)\n",
            "The shape of x_test: (1000, 784)\n",
            "The shape of y_test: (1000, 1)\n",
            "\n",
            "\n"
          ]
        },
        {
          "output_type": "stream",
          "name": "stderr",
          "text": [
            "100%|██████████| 3000/3000 [00:04<00:00, 607.88it/s]\n"
          ]
        },
        {
          "output_type": "stream",
          "name": "stdout",
          "text": [
            "epochs: 0, Train Accuracy: 35.266666666666666%\n",
            "epochs: 1, Test Accuracy: 53.1%\n"
          ]
        },
        {
          "output_type": "stream",
          "name": "stderr",
          "text": [
            "100%|██████████| 3000/3000 [00:05<00:00, 581.55it/s]\n"
          ]
        },
        {
          "output_type": "stream",
          "name": "stdout",
          "text": [
            "epochs: 1, Train Accuracy: 57.266666666666666%\n",
            "epochs: 2, Test Accuracy: 60.3%\n"
          ]
        },
        {
          "output_type": "stream",
          "name": "stderr",
          "text": [
            "100%|██████████| 3000/3000 [00:07<00:00, 418.45it/s]\n"
          ]
        },
        {
          "output_type": "stream",
          "name": "stdout",
          "text": [
            "epochs: 2, Train Accuracy: 64.1%\n",
            "epochs: 3, Test Accuracy: 63.800000000000004%\n"
          ]
        },
        {
          "output_type": "stream",
          "name": "stderr",
          "text": [
            "100%|██████████| 3000/3000 [00:05<00:00, 588.58it/s]\n"
          ]
        },
        {
          "output_type": "stream",
          "name": "stdout",
          "text": [
            "epochs: 3, Train Accuracy: 67.56666666666666%\n",
            "epochs: 4, Test Accuracy: 65.60000000000001%\n"
          ]
        },
        {
          "output_type": "stream",
          "name": "stderr",
          "text": [
            "100%|██████████| 3000/3000 [00:05<00:00, 582.39it/s]\n"
          ]
        },
        {
          "output_type": "stream",
          "name": "stdout",
          "text": [
            "epochs: 4, Train Accuracy: 70.03333333333333%\n",
            "epochs: 5, Test Accuracy: 67.30000000000001%\n"
          ]
        },
        {
          "output_type": "stream",
          "name": "stderr",
          "text": [
            "100%|██████████| 3000/3000 [00:05<00:00, 567.16it/s]\n"
          ]
        },
        {
          "output_type": "stream",
          "name": "stdout",
          "text": [
            "epochs: 5, Train Accuracy: 71.93333333333334%\n",
            "epochs: 6, Test Accuracy: 68.0%\n"
          ]
        },
        {
          "output_type": "stream",
          "name": "stderr",
          "text": [
            "100%|██████████| 3000/3000 [00:05<00:00, 572.98it/s]\n"
          ]
        },
        {
          "output_type": "stream",
          "name": "stdout",
          "text": [
            "epochs: 6, Train Accuracy: 73.36666666666667%\n",
            "epochs: 7, Test Accuracy: 69.3%\n"
          ]
        },
        {
          "output_type": "stream",
          "name": "stderr",
          "text": [
            "100%|██████████| 3000/3000 [00:05<00:00, 592.12it/s]\n"
          ]
        },
        {
          "output_type": "stream",
          "name": "stdout",
          "text": [
            "epochs: 7, Train Accuracy: 74.73333333333333%\n",
            "epochs: 8, Test Accuracy: 69.5%\n"
          ]
        },
        {
          "output_type": "stream",
          "name": "stderr",
          "text": [
            "100%|██████████| 3000/3000 [00:05<00:00, 585.39it/s]\n"
          ]
        },
        {
          "output_type": "stream",
          "name": "stdout",
          "text": [
            "epochs: 8, Train Accuracy: 76.0%\n",
            "epochs: 9, Test Accuracy: 70.0%\n"
          ]
        },
        {
          "output_type": "stream",
          "name": "stderr",
          "text": [
            "100%|██████████| 3000/3000 [00:05<00:00, 555.51it/s]\n"
          ]
        },
        {
          "output_type": "stream",
          "name": "stdout",
          "text": [
            "epochs: 9, Train Accuracy: 77.16666666666666%\n",
            "epochs: 10, Test Accuracy: 70.39999999999999%\n"
          ]
        },
        {
          "output_type": "stream",
          "name": "stderr",
          "text": [
            "100%|██████████| 3000/3000 [00:04<00:00, 600.34it/s]\n"
          ]
        },
        {
          "output_type": "stream",
          "name": "stdout",
          "text": [
            "epochs: 10, Train Accuracy: 78.26666666666667%\n",
            "epochs: 11, Test Accuracy: 70.8%\n"
          ]
        },
        {
          "output_type": "stream",
          "name": "stderr",
          "text": [
            "100%|██████████| 3000/3000 [00:05<00:00, 594.82it/s]\n"
          ]
        },
        {
          "output_type": "stream",
          "name": "stdout",
          "text": [
            "epochs: 11, Train Accuracy: 79.03333333333333%\n",
            "epochs: 12, Test Accuracy: 70.89999999999999%\n"
          ]
        },
        {
          "output_type": "stream",
          "name": "stderr",
          "text": [
            "100%|██████████| 3000/3000 [00:05<00:00, 549.49it/s]\n"
          ]
        },
        {
          "output_type": "stream",
          "name": "stdout",
          "text": [
            "epochs: 12, Train Accuracy: 79.7%\n",
            "epochs: 13, Test Accuracy: 71.2%\n"
          ]
        },
        {
          "output_type": "stream",
          "name": "stderr",
          "text": [
            "100%|██████████| 3000/3000 [00:05<00:00, 579.77it/s]\n"
          ]
        },
        {
          "output_type": "stream",
          "name": "stdout",
          "text": [
            "epochs: 13, Train Accuracy: 80.43333333333334%\n",
            "epochs: 14, Test Accuracy: 71.6%\n"
          ]
        },
        {
          "output_type": "stream",
          "name": "stderr",
          "text": [
            "100%|██████████| 3000/3000 [00:05<00:00, 581.96it/s]\n"
          ]
        },
        {
          "output_type": "stream",
          "name": "stdout",
          "text": [
            "epochs: 14, Train Accuracy: 81.10000000000001%\n",
            "epochs: 15, Test Accuracy: 72.0%\n"
          ]
        },
        {
          "output_type": "stream",
          "name": "stderr",
          "text": [
            "100%|██████████| 3000/3000 [00:05<00:00, 563.89it/s]\n"
          ]
        },
        {
          "output_type": "stream",
          "name": "stdout",
          "text": [
            "epochs: 15, Train Accuracy: 81.63333333333334%\n",
            "epochs: 16, Test Accuracy: 72.0%\n"
          ]
        },
        {
          "output_type": "stream",
          "name": "stderr",
          "text": [
            "100%|██████████| 3000/3000 [00:05<00:00, 578.11it/s]\n"
          ]
        },
        {
          "output_type": "stream",
          "name": "stdout",
          "text": [
            "epochs: 16, Train Accuracy: 82.33333333333334%\n",
            "epochs: 17, Test Accuracy: 72.39999999999999%\n"
          ]
        },
        {
          "output_type": "stream",
          "name": "stderr",
          "text": [
            "100%|██████████| 3000/3000 [00:05<00:00, 576.44it/s]\n"
          ]
        },
        {
          "output_type": "stream",
          "name": "stdout",
          "text": [
            "epochs: 17, Train Accuracy: 82.96666666666667%\n",
            "epochs: 18, Test Accuracy: 72.8%\n"
          ]
        },
        {
          "output_type": "stream",
          "name": "stderr",
          "text": [
            "100%|██████████| 3000/3000 [00:05<00:00, 596.41it/s]\n"
          ]
        },
        {
          "output_type": "stream",
          "name": "stdout",
          "text": [
            "epochs: 18, Train Accuracy: 83.6%\n",
            "epochs: 19, Test Accuracy: 72.8%\n"
          ]
        },
        {
          "output_type": "stream",
          "name": "stderr",
          "text": [
            "100%|██████████| 3000/3000 [00:05<00:00, 566.60it/s]\n"
          ]
        },
        {
          "output_type": "stream",
          "name": "stdout",
          "text": [
            "epochs: 19, Train Accuracy: 84.2%\n",
            "epochs: 20, Test Accuracy: 73.1%\n",
            "The shape of x & y train data: (3000, 785)\n",
            "The shape of x_train: (3000, 784)\n",
            "The shape of y_train: (3000, 1)\n",
            "The shape of x & y test data: (1000, 785)\n",
            "The shape of x_test: (1000, 784)\n",
            "The shape of y_test: (1000, 1)\n",
            "\n",
            "\n"
          ]
        },
        {
          "output_type": "stream",
          "name": "stderr",
          "text": [
            "100%|██████████| 3000/3000 [00:05<00:00, 591.40it/s]\n"
          ]
        },
        {
          "output_type": "stream",
          "name": "stdout",
          "text": [
            "epochs: 0, Train Accuracy: 13.266666666666666%\n",
            "epochs: 1, Test Accuracy: 15.299999999999999%\n"
          ]
        },
        {
          "output_type": "stream",
          "name": "stderr",
          "text": [
            "100%|██████████| 3000/3000 [00:04<00:00, 600.98it/s]\n"
          ]
        },
        {
          "output_type": "stream",
          "name": "stdout",
          "text": [
            "epochs: 1, Train Accuracy: 18.76666666666667%\n",
            "epochs: 2, Test Accuracy: 22.5%\n"
          ]
        },
        {
          "output_type": "stream",
          "name": "stderr",
          "text": [
            "100%|██████████| 3000/3000 [00:07<00:00, 395.18it/s]\n"
          ]
        },
        {
          "output_type": "stream",
          "name": "stdout",
          "text": [
            "epochs: 2, Train Accuracy: 27.0%\n",
            "epochs: 3, Test Accuracy: 30.5%\n"
          ]
        },
        {
          "output_type": "stream",
          "name": "stderr",
          "text": [
            "100%|██████████| 3000/3000 [00:05<00:00, 569.00it/s]\n"
          ]
        },
        {
          "output_type": "stream",
          "name": "stdout",
          "text": [
            "epochs: 3, Train Accuracy: 33.300000000000004%\n",
            "epochs: 4, Test Accuracy: 37.2%\n"
          ]
        },
        {
          "output_type": "stream",
          "name": "stderr",
          "text": [
            "100%|██████████| 3000/3000 [00:05<00:00, 580.16it/s]\n"
          ]
        },
        {
          "output_type": "stream",
          "name": "stdout",
          "text": [
            "epochs: 4, Train Accuracy: 39.13333333333333%\n",
            "epochs: 5, Test Accuracy: 40.9%\n"
          ]
        },
        {
          "output_type": "stream",
          "name": "stderr",
          "text": [
            "100%|██████████| 3000/3000 [00:05<00:00, 577.81it/s]\n"
          ]
        },
        {
          "output_type": "stream",
          "name": "stdout",
          "text": [
            "epochs: 5, Train Accuracy: 42.699999999999996%\n",
            "epochs: 6, Test Accuracy: 44.0%\n"
          ]
        },
        {
          "output_type": "stream",
          "name": "stderr",
          "text": [
            "100%|██████████| 3000/3000 [00:05<00:00, 579.27it/s]\n"
          ]
        },
        {
          "output_type": "stream",
          "name": "stdout",
          "text": [
            "epochs: 6, Train Accuracy: 45.9%\n",
            "epochs: 7, Test Accuracy: 47.099999999999994%\n"
          ]
        },
        {
          "output_type": "stream",
          "name": "stderr",
          "text": [
            "100%|██████████| 3000/3000 [00:05<00:00, 592.03it/s]\n"
          ]
        },
        {
          "output_type": "stream",
          "name": "stdout",
          "text": [
            "epochs: 7, Train Accuracy: 48.53333333333333%\n",
            "epochs: 8, Test Accuracy: 49.6%\n"
          ]
        },
        {
          "output_type": "stream",
          "name": "stderr",
          "text": [
            "100%|██████████| 3000/3000 [00:05<00:00, 575.34it/s]\n"
          ]
        },
        {
          "output_type": "stream",
          "name": "stdout",
          "text": [
            "epochs: 8, Train Accuracy: 50.9%\n",
            "epochs: 9, Test Accuracy: 50.9%\n"
          ]
        },
        {
          "output_type": "stream",
          "name": "stderr",
          "text": [
            "100%|██████████| 3000/3000 [00:05<00:00, 592.35it/s]\n"
          ]
        },
        {
          "output_type": "stream",
          "name": "stdout",
          "text": [
            "epochs: 9, Train Accuracy: 52.83333333333333%\n",
            "epochs: 10, Test Accuracy: 52.0%\n"
          ]
        },
        {
          "output_type": "stream",
          "name": "stderr",
          "text": [
            "100%|██████████| 3000/3000 [00:05<00:00, 547.04it/s]\n"
          ]
        },
        {
          "output_type": "stream",
          "name": "stdout",
          "text": [
            "epochs: 10, Train Accuracy: 54.46666666666666%\n",
            "epochs: 11, Test Accuracy: 53.300000000000004%\n"
          ]
        },
        {
          "output_type": "stream",
          "name": "stderr",
          "text": [
            "100%|██████████| 3000/3000 [00:05<00:00, 567.82it/s]\n"
          ]
        },
        {
          "output_type": "stream",
          "name": "stdout",
          "text": [
            "epochs: 11, Train Accuracy: 55.800000000000004%\n",
            "epochs: 12, Test Accuracy: 54.0%\n"
          ]
        },
        {
          "output_type": "stream",
          "name": "stderr",
          "text": [
            "100%|██████████| 3000/3000 [00:05<00:00, 581.11it/s]\n"
          ]
        },
        {
          "output_type": "stream",
          "name": "stdout",
          "text": [
            "epochs: 12, Train Accuracy: 56.599999999999994%\n",
            "epochs: 13, Test Accuracy: 54.6%\n"
          ]
        },
        {
          "output_type": "stream",
          "name": "stderr",
          "text": [
            "100%|██████████| 3000/3000 [00:05<00:00, 595.46it/s]\n"
          ]
        },
        {
          "output_type": "stream",
          "name": "stdout",
          "text": [
            "epochs: 13, Train Accuracy: 57.599999999999994%\n",
            "epochs: 14, Test Accuracy: 55.400000000000006%\n"
          ]
        },
        {
          "output_type": "stream",
          "name": "stderr",
          "text": [
            "100%|██████████| 3000/3000 [00:05<00:00, 575.84it/s]\n"
          ]
        },
        {
          "output_type": "stream",
          "name": "stdout",
          "text": [
            "epochs: 14, Train Accuracy: 58.56666666666667%\n",
            "epochs: 15, Test Accuracy: 56.39999999999999%\n"
          ]
        },
        {
          "output_type": "stream",
          "name": "stderr",
          "text": [
            "100%|██████████| 3000/3000 [00:04<00:00, 615.80it/s]\n"
          ]
        },
        {
          "output_type": "stream",
          "name": "stdout",
          "text": [
            "epochs: 15, Train Accuracy: 59.3%\n",
            "epochs: 16, Test Accuracy: 57.199999999999996%\n"
          ]
        },
        {
          "output_type": "stream",
          "name": "stderr",
          "text": [
            "100%|██████████| 3000/3000 [00:04<00:00, 603.17it/s]\n"
          ]
        },
        {
          "output_type": "stream",
          "name": "stdout",
          "text": [
            "epochs: 16, Train Accuracy: 60.4%\n",
            "epochs: 17, Test Accuracy: 57.9%\n"
          ]
        },
        {
          "output_type": "stream",
          "name": "stderr",
          "text": [
            "100%|██████████| 3000/3000 [00:05<00:00, 598.00it/s]\n"
          ]
        },
        {
          "output_type": "stream",
          "name": "stdout",
          "text": [
            "epochs: 17, Train Accuracy: 61.1%\n",
            "epochs: 18, Test Accuracy: 58.5%\n"
          ]
        },
        {
          "output_type": "stream",
          "name": "stderr",
          "text": [
            "100%|██████████| 3000/3000 [00:04<00:00, 602.28it/s]\n"
          ]
        },
        {
          "output_type": "stream",
          "name": "stdout",
          "text": [
            "epochs: 18, Train Accuracy: 61.66666666666667%\n",
            "epochs: 19, Test Accuracy: 59.4%\n"
          ]
        },
        {
          "output_type": "stream",
          "name": "stderr",
          "text": [
            "100%|██████████| 3000/3000 [00:04<00:00, 611.61it/s]\n"
          ]
        },
        {
          "output_type": "stream",
          "name": "stdout",
          "text": [
            "epochs: 19, Train Accuracy: 62.2%\n",
            "epochs: 20, Test Accuracy: 59.599999999999994%\n",
            "The shape of x & y train data: (3000, 785)\n",
            "The shape of x_train: (3000, 784)\n",
            "The shape of y_train: (3000, 1)\n",
            "The shape of x & y test data: (1000, 785)\n",
            "The shape of x_test: (1000, 784)\n",
            "The shape of y_test: (1000, 1)\n",
            "\n",
            "\n"
          ]
        },
        {
          "output_type": "stream",
          "name": "stderr",
          "text": [
            "100%|██████████| 3000/3000 [00:05<00:00, 575.58it/s]\n"
          ]
        },
        {
          "output_type": "stream",
          "name": "stdout",
          "text": [
            "epochs: 0, Train Accuracy: 9.733333333333333%\n",
            "epochs: 1, Test Accuracy: 10.299999999999999%\n"
          ]
        },
        {
          "output_type": "stream",
          "name": "stderr",
          "text": [
            "100%|██████████| 3000/3000 [00:04<00:00, 606.50it/s]\n"
          ]
        },
        {
          "output_type": "stream",
          "name": "stdout",
          "text": [
            "epochs: 1, Train Accuracy: 11.066666666666666%\n",
            "epochs: 2, Test Accuracy: 11.200000000000001%\n"
          ]
        },
        {
          "output_type": "stream",
          "name": "stderr",
          "text": [
            "100%|██████████| 3000/3000 [00:04<00:00, 644.62it/s]\n"
          ]
        },
        {
          "output_type": "stream",
          "name": "stdout",
          "text": [
            "epochs: 2, Train Accuracy: 11.766666666666667%\n",
            "epochs: 3, Test Accuracy: 11.899999999999999%\n"
          ]
        },
        {
          "output_type": "stream",
          "name": "stderr",
          "text": [
            "100%|██████████| 3000/3000 [00:06<00:00, 490.24it/s]\n"
          ]
        },
        {
          "output_type": "stream",
          "name": "stdout",
          "text": [
            "epochs: 3, Train Accuracy: 12.266666666666666%\n",
            "epochs: 4, Test Accuracy: 13.0%\n"
          ]
        },
        {
          "output_type": "stream",
          "name": "stderr",
          "text": [
            "100%|██████████| 3000/3000 [00:04<00:00, 665.45it/s]\n"
          ]
        },
        {
          "output_type": "stream",
          "name": "stdout",
          "text": [
            "epochs: 4, Train Accuracy: 12.766666666666667%\n",
            "epochs: 5, Test Accuracy: 12.8%\n"
          ]
        },
        {
          "output_type": "stream",
          "name": "stderr",
          "text": [
            "100%|██████████| 3000/3000 [00:04<00:00, 613.85it/s]\n"
          ]
        },
        {
          "output_type": "stream",
          "name": "stdout",
          "text": [
            "epochs: 5, Train Accuracy: 13.3%\n",
            "epochs: 6, Test Accuracy: 13.4%\n"
          ]
        },
        {
          "output_type": "stream",
          "name": "stderr",
          "text": [
            "100%|██████████| 3000/3000 [00:04<00:00, 619.68it/s]\n"
          ]
        },
        {
          "output_type": "stream",
          "name": "stdout",
          "text": [
            "epochs: 6, Train Accuracy: 13.900000000000002%\n",
            "epochs: 7, Test Accuracy: 13.600000000000001%\n"
          ]
        },
        {
          "output_type": "stream",
          "name": "stderr",
          "text": [
            "100%|██████████| 3000/3000 [00:06<00:00, 496.13it/s]\n"
          ]
        },
        {
          "output_type": "stream",
          "name": "stdout",
          "text": [
            "epochs: 7, Train Accuracy: 14.333333333333334%\n",
            "epochs: 8, Test Accuracy: 14.000000000000002%\n"
          ]
        },
        {
          "output_type": "stream",
          "name": "stderr",
          "text": [
            "100%|██████████| 3000/3000 [00:04<00:00, 652.61it/s]\n"
          ]
        },
        {
          "output_type": "stream",
          "name": "stdout",
          "text": [
            "epochs: 8, Train Accuracy: 14.899999999999999%\n",
            "epochs: 9, Test Accuracy: 14.499999999999998%\n"
          ]
        },
        {
          "output_type": "stream",
          "name": "stderr",
          "text": [
            "100%|██████████| 3000/3000 [00:04<00:00, 648.00it/s]\n"
          ]
        },
        {
          "output_type": "stream",
          "name": "stdout",
          "text": [
            "epochs: 9, Train Accuracy: 15.433333333333332%\n",
            "epochs: 10, Test Accuracy: 15.2%\n"
          ]
        },
        {
          "output_type": "stream",
          "name": "stderr",
          "text": [
            "100%|██████████| 3000/3000 [00:04<00:00, 684.82it/s]\n"
          ]
        },
        {
          "output_type": "stream",
          "name": "stdout",
          "text": [
            "epochs: 10, Train Accuracy: 15.933333333333334%\n",
            "epochs: 11, Test Accuracy: 16.1%\n"
          ]
        },
        {
          "output_type": "stream",
          "name": "stderr",
          "text": [
            "100%|██████████| 3000/3000 [00:04<00:00, 609.40it/s]\n"
          ]
        },
        {
          "output_type": "stream",
          "name": "stdout",
          "text": [
            "epochs: 11, Train Accuracy: 16.400000000000002%\n",
            "epochs: 12, Test Accuracy: 17.0%\n"
          ]
        },
        {
          "output_type": "stream",
          "name": "stderr",
          "text": [
            "100%|██████████| 3000/3000 [00:04<00:00, 631.61it/s]\n"
          ]
        },
        {
          "output_type": "stream",
          "name": "stdout",
          "text": [
            "epochs: 12, Train Accuracy: 16.900000000000002%\n",
            "epochs: 13, Test Accuracy: 17.599999999999998%\n"
          ]
        },
        {
          "output_type": "stream",
          "name": "stderr",
          "text": [
            "100%|██████████| 3000/3000 [00:05<00:00, 593.12it/s]\n"
          ]
        },
        {
          "output_type": "stream",
          "name": "stdout",
          "text": [
            "epochs: 13, Train Accuracy: 17.633333333333333%\n",
            "epochs: 14, Test Accuracy: 17.7%\n"
          ]
        },
        {
          "output_type": "stream",
          "name": "stderr",
          "text": [
            "100%|██████████| 3000/3000 [00:04<00:00, 651.93it/s]\n"
          ]
        },
        {
          "output_type": "stream",
          "name": "stdout",
          "text": [
            "epochs: 14, Train Accuracy: 18.633333333333333%\n",
            "epochs: 15, Test Accuracy: 18.7%\n"
          ]
        },
        {
          "output_type": "stream",
          "name": "stderr",
          "text": [
            "100%|██████████| 3000/3000 [00:04<00:00, 614.61it/s]\n"
          ]
        },
        {
          "output_type": "stream",
          "name": "stdout",
          "text": [
            "epochs: 15, Train Accuracy: 19.366666666666667%\n",
            "epochs: 16, Test Accuracy: 19.2%\n"
          ]
        },
        {
          "output_type": "stream",
          "name": "stderr",
          "text": [
            "100%|██████████| 3000/3000 [00:04<00:00, 638.38it/s]\n"
          ]
        },
        {
          "output_type": "stream",
          "name": "stdout",
          "text": [
            "epochs: 16, Train Accuracy: 20.066666666666666%\n",
            "epochs: 17, Test Accuracy: 20.200000000000003%\n"
          ]
        },
        {
          "output_type": "stream",
          "name": "stderr",
          "text": [
            "100%|██████████| 3000/3000 [00:04<00:00, 617.58it/s]\n"
          ]
        },
        {
          "output_type": "stream",
          "name": "stdout",
          "text": [
            "epochs: 17, Train Accuracy: 20.633333333333333%\n",
            "epochs: 18, Test Accuracy: 20.599999999999998%\n"
          ]
        },
        {
          "output_type": "stream",
          "name": "stderr",
          "text": [
            "100%|██████████| 3000/3000 [00:04<00:00, 626.47it/s]\n"
          ]
        },
        {
          "output_type": "stream",
          "name": "stdout",
          "text": [
            "epochs: 18, Train Accuracy: 21.53333333333333%\n",
            "epochs: 19, Test Accuracy: 21.0%\n"
          ]
        },
        {
          "output_type": "stream",
          "name": "stderr",
          "text": [
            "100%|██████████| 3000/3000 [00:04<00:00, 612.06it/s]\n"
          ]
        },
        {
          "output_type": "stream",
          "name": "stdout",
          "text": [
            "epochs: 19, Train Accuracy: 22.566666666666666%\n",
            "epochs: 20, Test Accuracy: 22.5%\n"
          ]
        }
      ],
      "source": [
        "# Plot test loss as a function of epochs\n",
        "num_epochs = 20\n",
        "res1 = train(batchsize=50 , eta = 5e-1, num_epochs=20, h = 256, init='default')\n",
        "res2 = train(batchsize=50 , eta = 1e-1, num_epochs=20, h = 256, init='default')\n",
        "res3 = train(batchsize=50 , eta = 1e-2, num_epochs=20, h = 256, init='default')\n",
        "res4 = train(batchsize=50 , eta = 1e-3, num_epochs=20, h = 256, init='default')"
      ]
    },
    {
      "cell_type": "code",
      "execution_count": 27,
      "metadata": {
        "colab": {
          "base_uri": "https://localhost:8080/",
          "height": 295
        },
        "id": "NW47UR4ynnjH",
        "outputId": "04d588cc-ad16-4276-ad74-04181d2f8693"
      },
      "outputs": [
        {
          "output_type": "display_data",
          "data": {
            "text/plain": [
              "<Figure size 432x288 with 1 Axes>"
            ],
            "image/png": "[encoded data removed]"
          },
          "metadata": {
            "needs_background": "light"
          }
        }
      ],
      "source": [
        "plt.title('Effect of Learning Rate')\n",
        "plt.xlabel('Epochs')\n",
        "plt.ylabel('Test loss (Cross Entropy loss of Test Set)')\n",
        "plt.plot(np.linspace(1,num_epochs,num_epochs), res1[6])\n",
        "plt.plot(np.linspace(1,num_epochs,num_epochs), res2[6])\n",
        "plt.plot(np.linspace(1,num_epochs,num_epochs), res3[6])\n",
        "plt.plot(np.linspace(1,num_epochs,num_epochs), res4[6])\n",
        "plt.legend([\"lr=5e-1\", \"lr=1e-1\", \"lr=1e-2\", \"lr=1e-3\"])\n",
        "plt.show()"
      ]
    },
    {
      "cell_type": "markdown",
      "metadata": {
        "id": "GruIp2rgnnjI"
      },
      "source": [
        "# Effect of Initialization"
      ]
    },
    {
      "cell_type": "code",
      "execution_count": 32,
      "metadata": {
        "colab": {
          "base_uri": "https://localhost:8080/"
        },
        "id": "8Nv0dAPSnnjI",
        "outputId": "4956c4a6-6edc-40ed-ad93-4548202d8aa2"
      },
      "outputs": [
        {
          "output_type": "stream",
          "name": "stdout",
          "text": [
            "The shape of x & y train data: (3000, 785)\n",
            "The shape of x_train: (3000, 784)\n",
            "The shape of y_train: (3000, 1)\n",
            "The shape of x & y test data: (1000, 785)\n",
            "The shape of x_test: (1000, 784)\n",
            "The shape of y_test: (1000, 1)\n",
            "\n",
            "\n"
          ]
        },
        {
          "output_type": "stream",
          "name": "stderr",
          "text": [
            "100%|██████████| 3000/3000 [00:06<00:00, 464.80it/s]\n"
          ]
        },
        {
          "output_type": "stream",
          "name": "stdout",
          "text": [
            "epochs: 0, Train Accuracy: 13.266666666666666%\n",
            "epochs: 1, Test Accuracy: 15.299999999999999%\n"
          ]
        },
        {
          "output_type": "stream",
          "name": "stderr",
          "text": [
            "100%|██████████| 3000/3000 [00:06<00:00, 456.38it/s]\n"
          ]
        },
        {
          "output_type": "stream",
          "name": "stdout",
          "text": [
            "epochs: 1, Train Accuracy: 18.76666666666667%\n",
            "epochs: 2, Test Accuracy: 22.5%\n"
          ]
        },
        {
          "output_type": "stream",
          "name": "stderr",
          "text": [
            "100%|██████████| 3000/3000 [00:06<00:00, 452.07it/s]\n"
          ]
        },
        {
          "output_type": "stream",
          "name": "stdout",
          "text": [
            "epochs: 2, Train Accuracy: 27.0%\n",
            "epochs: 3, Test Accuracy: 30.5%\n"
          ]
        },
        {
          "output_type": "stream",
          "name": "stderr",
          "text": [
            "100%|██████████| 3000/3000 [00:06<00:00, 451.61it/s]\n"
          ]
        },
        {
          "output_type": "stream",
          "name": "stdout",
          "text": [
            "epochs: 3, Train Accuracy: 33.300000000000004%\n",
            "epochs: 4, Test Accuracy: 37.2%\n"
          ]
        },
        {
          "output_type": "stream",
          "name": "stderr",
          "text": [
            "100%|██████████| 3000/3000 [00:08<00:00, 354.34it/s]\n"
          ]
        },
        {
          "output_type": "stream",
          "name": "stdout",
          "text": [
            "epochs: 4, Train Accuracy: 39.13333333333333%\n",
            "epochs: 5, Test Accuracy: 40.9%\n"
          ]
        },
        {
          "output_type": "stream",
          "name": "stderr",
          "text": [
            "100%|██████████| 3000/3000 [00:06<00:00, 451.27it/s]\n"
          ]
        },
        {
          "output_type": "stream",
          "name": "stdout",
          "text": [
            "epochs: 5, Train Accuracy: 42.699999999999996%\n",
            "epochs: 6, Test Accuracy: 44.0%\n"
          ]
        },
        {
          "output_type": "stream",
          "name": "stderr",
          "text": [
            "100%|██████████| 3000/3000 [00:06<00:00, 467.25it/s]\n"
          ]
        },
        {
          "output_type": "stream",
          "name": "stdout",
          "text": [
            "epochs: 6, Train Accuracy: 45.9%\n",
            "epochs: 7, Test Accuracy: 47.099999999999994%\n"
          ]
        },
        {
          "output_type": "stream",
          "name": "stderr",
          "text": [
            "100%|██████████| 3000/3000 [00:06<00:00, 451.46it/s]\n"
          ]
        },
        {
          "output_type": "stream",
          "name": "stdout",
          "text": [
            "epochs: 7, Train Accuracy: 48.53333333333333%\n",
            "epochs: 8, Test Accuracy: 49.6%\n"
          ]
        },
        {
          "output_type": "stream",
          "name": "stderr",
          "text": [
            "100%|██████████| 3000/3000 [00:08<00:00, 366.84it/s]\n"
          ]
        },
        {
          "output_type": "stream",
          "name": "stdout",
          "text": [
            "epochs: 8, Train Accuracy: 50.9%\n",
            "epochs: 9, Test Accuracy: 50.9%\n"
          ]
        },
        {
          "output_type": "stream",
          "name": "stderr",
          "text": [
            "100%|██████████| 3000/3000 [00:06<00:00, 474.98it/s]\n"
          ]
        },
        {
          "output_type": "stream",
          "name": "stdout",
          "text": [
            "epochs: 9, Train Accuracy: 52.83333333333333%\n",
            "epochs: 10, Test Accuracy: 52.0%\n"
          ]
        },
        {
          "output_type": "stream",
          "name": "stderr",
          "text": [
            "100%|██████████| 3000/3000 [00:06<00:00, 466.96it/s]\n"
          ]
        },
        {
          "output_type": "stream",
          "name": "stdout",
          "text": [
            "epochs: 10, Train Accuracy: 54.46666666666666%\n",
            "epochs: 11, Test Accuracy: 53.300000000000004%\n"
          ]
        },
        {
          "output_type": "stream",
          "name": "stderr",
          "text": [
            "100%|██████████| 3000/3000 [00:06<00:00, 454.87it/s]\n"
          ]
        },
        {
          "output_type": "stream",
          "name": "stdout",
          "text": [
            "epochs: 11, Train Accuracy: 55.800000000000004%\n",
            "epochs: 12, Test Accuracy: 54.0%\n"
          ]
        },
        {
          "output_type": "stream",
          "name": "stderr",
          "text": [
            "100%|██████████| 3000/3000 [00:06<00:00, 453.75it/s]\n"
          ]
        },
        {
          "output_type": "stream",
          "name": "stdout",
          "text": [
            "epochs: 12, Train Accuracy: 56.599999999999994%\n",
            "epochs: 13, Test Accuracy: 54.6%\n"
          ]
        },
        {
          "output_type": "stream",
          "name": "stderr",
          "text": [
            "100%|██████████| 3000/3000 [00:06<00:00, 441.48it/s]\n"
          ]
        },
        {
          "output_type": "stream",
          "name": "stdout",
          "text": [
            "epochs: 13, Train Accuracy: 57.599999999999994%\n",
            "epochs: 14, Test Accuracy: 55.400000000000006%\n"
          ]
        },
        {
          "output_type": "stream",
          "name": "stderr",
          "text": [
            "100%|██████████| 3000/3000 [00:07<00:00, 426.38it/s]\n"
          ]
        },
        {
          "output_type": "stream",
          "name": "stdout",
          "text": [
            "epochs: 14, Train Accuracy: 58.56666666666667%\n",
            "epochs: 15, Test Accuracy: 56.39999999999999%\n"
          ]
        },
        {
          "output_type": "stream",
          "name": "stderr",
          "text": [
            "100%|██████████| 3000/3000 [00:06<00:00, 450.61it/s]\n"
          ]
        },
        {
          "output_type": "stream",
          "name": "stdout",
          "text": [
            "epochs: 15, Train Accuracy: 59.3%\n",
            "epochs: 16, Test Accuracy: 57.199999999999996%\n"
          ]
        },
        {
          "output_type": "stream",
          "name": "stderr",
          "text": [
            "100%|██████████| 3000/3000 [00:06<00:00, 453.91it/s]\n"
          ]
        },
        {
          "output_type": "stream",
          "name": "stdout",
          "text": [
            "epochs: 16, Train Accuracy: 60.4%\n",
            "epochs: 17, Test Accuracy: 57.9%\n"
          ]
        },
        {
          "output_type": "stream",
          "name": "stderr",
          "text": [
            "100%|██████████| 3000/3000 [00:06<00:00, 455.97it/s]\n"
          ]
        },
        {
          "output_type": "stream",
          "name": "stdout",
          "text": [
            "epochs: 17, Train Accuracy: 61.1%\n",
            "epochs: 18, Test Accuracy: 58.5%\n"
          ]
        },
        {
          "output_type": "stream",
          "name": "stderr",
          "text": [
            "100%|██████████| 3000/3000 [00:06<00:00, 461.47it/s]\n"
          ]
        },
        {
          "output_type": "stream",
          "name": "stdout",
          "text": [
            "epochs: 18, Train Accuracy: 61.66666666666667%\n",
            "epochs: 19, Test Accuracy: 59.4%\n"
          ]
        },
        {
          "output_type": "stream",
          "name": "stderr",
          "text": [
            "100%|██████████| 3000/3000 [00:06<00:00, 438.47it/s]\n"
          ]
        },
        {
          "output_type": "stream",
          "name": "stdout",
          "text": [
            "epochs: 19, Train Accuracy: 62.2%\n",
            "epochs: 20, Test Accuracy: 59.599999999999994%\n",
            "The shape of x & y train data: (3000, 785)\n",
            "The shape of x_train: (3000, 784)\n",
            "The shape of y_train: (3000, 1)\n",
            "The shape of x & y test data: (1000, 785)\n",
            "The shape of x_test: (1000, 784)\n",
            "The shape of y_test: (1000, 1)\n",
            "\n",
            "\n"
          ]
        },
        {
          "output_type": "stream",
          "name": "stderr",
          "text": [
            "100%|██████████| 3000/3000 [00:08<00:00, 352.34it/s]\n"
          ]
        },
        {
          "output_type": "stream",
          "name": "stdout",
          "text": [
            "epochs: 0, Train Accuracy: 8.866666666666667%\n",
            "epochs: 1, Test Accuracy: 10.0%\n"
          ]
        },
        {
          "output_type": "stream",
          "name": "stderr",
          "text": [
            "100%|██████████| 3000/3000 [00:06<00:00, 489.93it/s]\n"
          ]
        },
        {
          "output_type": "stream",
          "name": "stdout",
          "text": [
            "epochs: 1, Train Accuracy: 8.366666666666667%\n",
            "epochs: 2, Test Accuracy: 10.0%\n"
          ]
        },
        {
          "output_type": "stream",
          "name": "stderr",
          "text": [
            "100%|██████████| 3000/3000 [00:06<00:00, 462.78it/s]\n"
          ]
        },
        {
          "output_type": "stream",
          "name": "stdout",
          "text": [
            "epochs: 2, Train Accuracy: 8.366666666666667%\n",
            "epochs: 3, Test Accuracy: 10.0%\n"
          ]
        },
        {
          "output_type": "stream",
          "name": "stderr",
          "text": [
            "100%|██████████| 3000/3000 [00:06<00:00, 444.56it/s]\n"
          ]
        },
        {
          "output_type": "stream",
          "name": "stdout",
          "text": [
            "epochs: 3, Train Accuracy: 8.366666666666667%\n",
            "epochs: 4, Test Accuracy: 10.0%\n"
          ]
        },
        {
          "output_type": "stream",
          "name": "stderr",
          "text": [
            "100%|██████████| 3000/3000 [00:06<00:00, 446.24it/s]\n"
          ]
        },
        {
          "output_type": "stream",
          "name": "stdout",
          "text": [
            "epochs: 4, Train Accuracy: 8.366666666666667%\n",
            "epochs: 5, Test Accuracy: 10.0%\n"
          ]
        },
        {
          "output_type": "stream",
          "name": "stderr",
          "text": [
            "100%|██████████| 3000/3000 [00:06<00:00, 444.38it/s]\n"
          ]
        },
        {
          "output_type": "stream",
          "name": "stdout",
          "text": [
            "epochs: 5, Train Accuracy: 8.366666666666667%\n",
            "epochs: 6, Test Accuracy: 10.0%\n"
          ]
        },
        {
          "output_type": "stream",
          "name": "stderr",
          "text": [
            "100%|██████████| 3000/3000 [00:06<00:00, 446.26it/s]\n"
          ]
        },
        {
          "output_type": "stream",
          "name": "stdout",
          "text": [
            "epochs: 6, Train Accuracy: 8.366666666666667%\n",
            "epochs: 7, Test Accuracy: 10.0%\n"
          ]
        },
        {
          "output_type": "stream",
          "name": "stderr",
          "text": [
            "100%|██████████| 3000/3000 [00:06<00:00, 474.62it/s]\n"
          ]
        },
        {
          "output_type": "stream",
          "name": "stdout",
          "text": [
            "epochs: 7, Train Accuracy: 8.366666666666667%\n",
            "epochs: 8, Test Accuracy: 10.0%\n"
          ]
        },
        {
          "output_type": "stream",
          "name": "stderr",
          "text": [
            "100%|██████████| 3000/3000 [00:06<00:00, 467.49it/s]\n"
          ]
        },
        {
          "output_type": "stream",
          "name": "stdout",
          "text": [
            "epochs: 8, Train Accuracy: 8.366666666666667%\n",
            "epochs: 9, Test Accuracy: 10.0%\n"
          ]
        },
        {
          "output_type": "stream",
          "name": "stderr",
          "text": [
            "100%|██████████| 3000/3000 [00:06<00:00, 443.23it/s]\n"
          ]
        },
        {
          "output_type": "stream",
          "name": "stdout",
          "text": [
            "epochs: 9, Train Accuracy: 8.366666666666667%\n",
            "epochs: 10, Test Accuracy: 10.0%\n"
          ]
        },
        {
          "output_type": "stream",
          "name": "stderr",
          "text": [
            "100%|██████████| 3000/3000 [00:06<00:00, 464.15it/s]\n"
          ]
        },
        {
          "output_type": "stream",
          "name": "stdout",
          "text": [
            "epochs: 10, Train Accuracy: 8.366666666666667%\n",
            "epochs: 11, Test Accuracy: 10.0%\n"
          ]
        },
        {
          "output_type": "stream",
          "name": "stderr",
          "text": [
            "100%|██████████| 3000/3000 [00:06<00:00, 463.35it/s]\n"
          ]
        },
        {
          "output_type": "stream",
          "name": "stdout",
          "text": [
            "epochs: 11, Train Accuracy: 8.366666666666667%\n",
            "epochs: 12, Test Accuracy: 10.0%\n"
          ]
        },
        {
          "output_type": "stream",
          "name": "stderr",
          "text": [
            "100%|██████████| 3000/3000 [00:06<00:00, 430.22it/s]\n"
          ]
        },
        {
          "output_type": "stream",
          "name": "stdout",
          "text": [
            "epochs: 12, Train Accuracy: 8.366666666666667%\n",
            "epochs: 13, Test Accuracy: 10.0%\n"
          ]
        },
        {
          "output_type": "stream",
          "name": "stderr",
          "text": [
            "100%|██████████| 3000/3000 [00:06<00:00, 464.78it/s]\n"
          ]
        },
        {
          "output_type": "stream",
          "name": "stdout",
          "text": [
            "epochs: 13, Train Accuracy: 8.366666666666667%\n",
            "epochs: 14, Test Accuracy: 10.0%\n"
          ]
        },
        {
          "output_type": "stream",
          "name": "stderr",
          "text": [
            "100%|██████████| 3000/3000 [00:06<00:00, 480.52it/s]\n"
          ]
        },
        {
          "output_type": "stream",
          "name": "stdout",
          "text": [
            "epochs: 14, Train Accuracy: 8.366666666666667%\n",
            "epochs: 15, Test Accuracy: 10.0%\n"
          ]
        },
        {
          "output_type": "stream",
          "name": "stderr",
          "text": [
            "100%|██████████| 3000/3000 [00:06<00:00, 451.51it/s]\n"
          ]
        },
        {
          "output_type": "stream",
          "name": "stdout",
          "text": [
            "epochs: 15, Train Accuracy: 8.366666666666667%\n",
            "epochs: 16, Test Accuracy: 10.0%\n"
          ]
        },
        {
          "output_type": "stream",
          "name": "stderr",
          "text": [
            "100%|██████████| 3000/3000 [00:06<00:00, 454.59it/s]\n"
          ]
        },
        {
          "output_type": "stream",
          "name": "stdout",
          "text": [
            "epochs: 16, Train Accuracy: 8.366666666666667%\n",
            "epochs: 17, Test Accuracy: 10.0%\n"
          ]
        },
        {
          "output_type": "stream",
          "name": "stderr",
          "text": [
            "100%|██████████| 3000/3000 [00:08<00:00, 340.02it/s]\n"
          ]
        },
        {
          "output_type": "stream",
          "name": "stdout",
          "text": [
            "epochs: 17, Train Accuracy: 8.366666666666667%\n",
            "epochs: 18, Test Accuracy: 10.0%\n"
          ]
        },
        {
          "output_type": "stream",
          "name": "stderr",
          "text": [
            "100%|██████████| 3000/3000 [00:06<00:00, 450.87it/s]\n"
          ]
        },
        {
          "output_type": "stream",
          "name": "stdout",
          "text": [
            "epochs: 18, Train Accuracy: 8.366666666666667%\n",
            "epochs: 19, Test Accuracy: 10.0%\n"
          ]
        },
        {
          "output_type": "stream",
          "name": "stderr",
          "text": [
            "100%|██████████| 3000/3000 [00:06<00:00, 442.92it/s]\n"
          ]
        },
        {
          "output_type": "stream",
          "name": "stdout",
          "text": [
            "epochs: 19, Train Accuracy: 8.366666666666667%\n",
            "epochs: 20, Test Accuracy: 10.0%\n",
            "The shape of x & y train data: (3000, 785)\n",
            "The shape of x_train: (3000, 784)\n",
            "The shape of y_train: (3000, 1)\n",
            "The shape of x & y test data: (1000, 785)\n",
            "The shape of x_test: (1000, 784)\n",
            "The shape of y_test: (1000, 1)\n",
            "\n",
            "\n"
          ]
        },
        {
          "output_type": "stream",
          "name": "stderr",
          "text": [
            "100%|██████████| 3000/3000 [00:06<00:00, 474.27it/s]\n"
          ]
        },
        {
          "output_type": "stream",
          "name": "stdout",
          "text": [
            "epochs: 0, Train Accuracy: 9.766666666666666%\n",
            "epochs: 1, Test Accuracy: 10.0%\n"
          ]
        },
        {
          "output_type": "stream",
          "name": "stderr",
          "text": [
            "100%|██████████| 3000/3000 [00:06<00:00, 471.40it/s]\n"
          ]
        },
        {
          "output_type": "stream",
          "name": "stdout",
          "text": [
            "epochs: 1, Train Accuracy: 9.566666666666666%\n",
            "epochs: 2, Test Accuracy: 10.0%\n"
          ]
        },
        {
          "output_type": "stream",
          "name": "stderr",
          "text": [
            "100%|██████████| 3000/3000 [00:06<00:00, 443.70it/s]\n"
          ]
        },
        {
          "output_type": "stream",
          "name": "stdout",
          "text": [
            "epochs: 2, Train Accuracy: 9.566666666666666%\n",
            "epochs: 3, Test Accuracy: 10.0%\n"
          ]
        },
        {
          "output_type": "stream",
          "name": "stderr",
          "text": [
            "100%|██████████| 3000/3000 [00:06<00:00, 458.15it/s]\n"
          ]
        },
        {
          "output_type": "stream",
          "name": "stdout",
          "text": [
            "epochs: 3, Train Accuracy: 9.566666666666666%\n",
            "epochs: 4, Test Accuracy: 10.0%\n"
          ]
        },
        {
          "output_type": "stream",
          "name": "stderr",
          "text": [
            "100%|██████████| 3000/3000 [00:06<00:00, 460.61it/s]\n"
          ]
        },
        {
          "output_type": "stream",
          "name": "stdout",
          "text": [
            "epochs: 4, Train Accuracy: 9.566666666666666%\n",
            "epochs: 5, Test Accuracy: 10.0%\n"
          ]
        },
        {
          "output_type": "stream",
          "name": "stderr",
          "text": [
            "100%|██████████| 3000/3000 [00:06<00:00, 437.33it/s]\n"
          ]
        },
        {
          "output_type": "stream",
          "name": "stdout",
          "text": [
            "epochs: 5, Train Accuracy: 9.566666666666666%\n",
            "epochs: 6, Test Accuracy: 10.0%\n"
          ]
        },
        {
          "output_type": "stream",
          "name": "stderr",
          "text": [
            "100%|██████████| 3000/3000 [00:06<00:00, 446.43it/s]\n"
          ]
        },
        {
          "output_type": "stream",
          "name": "stdout",
          "text": [
            "epochs: 6, Train Accuracy: 9.566666666666666%\n",
            "epochs: 7, Test Accuracy: 10.0%\n"
          ]
        },
        {
          "output_type": "stream",
          "name": "stderr",
          "text": [
            "100%|██████████| 3000/3000 [00:06<00:00, 437.93it/s]\n"
          ]
        },
        {
          "output_type": "stream",
          "name": "stdout",
          "text": [
            "epochs: 7, Train Accuracy: 9.566666666666666%\n",
            "epochs: 8, Test Accuracy: 10.0%\n"
          ]
        },
        {
          "output_type": "stream",
          "name": "stderr",
          "text": [
            "100%|██████████| 3000/3000 [00:06<00:00, 443.64it/s]\n"
          ]
        },
        {
          "output_type": "stream",
          "name": "stdout",
          "text": [
            "epochs: 8, Train Accuracy: 9.566666666666666%\n",
            "epochs: 9, Test Accuracy: 10.0%\n"
          ]
        },
        {
          "output_type": "stream",
          "name": "stderr",
          "text": [
            "100%|██████████| 3000/3000 [00:06<00:00, 445.12it/s]\n"
          ]
        },
        {
          "output_type": "stream",
          "name": "stdout",
          "text": [
            "epochs: 9, Train Accuracy: 9.566666666666666%\n",
            "epochs: 10, Test Accuracy: 10.0%\n"
          ]
        },
        {
          "output_type": "stream",
          "name": "stderr",
          "text": [
            "100%|██████████| 3000/3000 [00:06<00:00, 452.67it/s]\n"
          ]
        },
        {
          "output_type": "stream",
          "name": "stdout",
          "text": [
            "epochs: 10, Train Accuracy: 9.566666666666666%\n",
            "epochs: 11, Test Accuracy: 10.0%\n"
          ]
        },
        {
          "output_type": "stream",
          "name": "stderr",
          "text": [
            "100%|██████████| 3000/3000 [00:06<00:00, 431.29it/s]\n"
          ]
        },
        {
          "output_type": "stream",
          "name": "stdout",
          "text": [
            "epochs: 11, Train Accuracy: 9.566666666666666%\n",
            "epochs: 12, Test Accuracy: 10.0%\n"
          ]
        },
        {
          "output_type": "stream",
          "name": "stderr",
          "text": [
            "100%|██████████| 3000/3000 [00:07<00:00, 389.20it/s]\n"
          ]
        },
        {
          "output_type": "stream",
          "name": "stdout",
          "text": [
            "epochs: 12, Train Accuracy: 9.566666666666666%\n",
            "epochs: 13, Test Accuracy: 10.0%\n"
          ]
        },
        {
          "output_type": "stream",
          "name": "stderr",
          "text": [
            "100%|██████████| 3000/3000 [00:07<00:00, 386.61it/s]\n"
          ]
        },
        {
          "output_type": "stream",
          "name": "stdout",
          "text": [
            "epochs: 13, Train Accuracy: 9.566666666666666%\n",
            "epochs: 14, Test Accuracy: 10.0%\n"
          ]
        },
        {
          "output_type": "stream",
          "name": "stderr",
          "text": [
            "100%|██████████| 3000/3000 [00:06<00:00, 450.24it/s]\n"
          ]
        },
        {
          "output_type": "stream",
          "name": "stdout",
          "text": [
            "epochs: 14, Train Accuracy: 9.566666666666666%\n",
            "epochs: 15, Test Accuracy: 10.0%\n"
          ]
        },
        {
          "output_type": "stream",
          "name": "stderr",
          "text": [
            "100%|██████████| 3000/3000 [00:06<00:00, 446.68it/s]\n"
          ]
        },
        {
          "output_type": "stream",
          "name": "stdout",
          "text": [
            "epochs: 15, Train Accuracy: 9.566666666666666%\n",
            "epochs: 16, Test Accuracy: 10.0%\n"
          ]
        },
        {
          "output_type": "stream",
          "name": "stderr",
          "text": [
            "100%|██████████| 3000/3000 [00:06<00:00, 442.02it/s]\n"
          ]
        },
        {
          "output_type": "stream",
          "name": "stdout",
          "text": [
            "epochs: 16, Train Accuracy: 9.566666666666666%\n",
            "epochs: 17, Test Accuracy: 10.0%\n"
          ]
        },
        {
          "output_type": "stream",
          "name": "stderr",
          "text": [
            "100%|██████████| 3000/3000 [00:06<00:00, 433.72it/s]\n"
          ]
        },
        {
          "output_type": "stream",
          "name": "stdout",
          "text": [
            "epochs: 17, Train Accuracy: 9.566666666666666%\n",
            "epochs: 18, Test Accuracy: 10.0%\n"
          ]
        },
        {
          "output_type": "stream",
          "name": "stderr",
          "text": [
            "100%|██████████| 3000/3000 [00:06<00:00, 445.88it/s]\n"
          ]
        },
        {
          "output_type": "stream",
          "name": "stdout",
          "text": [
            "epochs: 18, Train Accuracy: 9.566666666666666%\n",
            "epochs: 19, Test Accuracy: 10.0%\n"
          ]
        },
        {
          "output_type": "stream",
          "name": "stderr",
          "text": [
            "100%|██████████| 3000/3000 [00:06<00:00, 475.84it/s]\n"
          ]
        },
        {
          "output_type": "stream",
          "name": "stdout",
          "text": [
            "epochs: 19, Train Accuracy: 9.566666666666666%\n",
            "epochs: 20, Test Accuracy: 10.0%\n",
            "The shape of x & y train data: (3000, 785)\n",
            "The shape of x_train: (3000, 784)\n",
            "The shape of y_train: (3000, 1)\n",
            "The shape of x & y test data: (1000, 785)\n",
            "The shape of x_test: (1000, 784)\n",
            "The shape of y_test: (1000, 1)\n",
            "\n",
            "\n"
          ]
        },
        {
          "output_type": "stream",
          "name": "stderr",
          "text": [
            "100%|██████████| 3000/3000 [00:06<00:00, 452.85it/s]\n"
          ]
        },
        {
          "output_type": "stream",
          "name": "stdout",
          "text": [
            "epochs: 0, Train Accuracy: 12.133333333333333%\n",
            "epochs: 1, Test Accuracy: 17.5%\n"
          ]
        },
        {
          "output_type": "stream",
          "name": "stderr",
          "text": [
            "100%|██████████| 3000/3000 [00:06<00:00, 447.42it/s]\n"
          ]
        },
        {
          "output_type": "stream",
          "name": "stdout",
          "text": [
            "epochs: 1, Train Accuracy: 25.133333333333336%\n",
            "epochs: 2, Test Accuracy: 32.800000000000004%\n"
          ]
        },
        {
          "output_type": "stream",
          "name": "stderr",
          "text": [
            "100%|██████████| 3000/3000 [00:06<00:00, 433.49it/s]\n"
          ]
        },
        {
          "output_type": "stream",
          "name": "stdout",
          "text": [
            "epochs: 2, Train Accuracy: 37.333333333333336%\n",
            "epochs: 3, Test Accuracy: 42.3%\n"
          ]
        },
        {
          "output_type": "stream",
          "name": "stderr",
          "text": [
            "100%|██████████| 3000/3000 [00:06<00:00, 438.21it/s]\n"
          ]
        },
        {
          "output_type": "stream",
          "name": "stdout",
          "text": [
            "epochs: 3, Train Accuracy: 44.36666666666667%\n",
            "epochs: 4, Test Accuracy: 47.199999999999996%\n"
          ]
        },
        {
          "output_type": "stream",
          "name": "stderr",
          "text": [
            "100%|██████████| 3000/3000 [00:06<00:00, 440.58it/s]\n"
          ]
        },
        {
          "output_type": "stream",
          "name": "stdout",
          "text": [
            "epochs: 4, Train Accuracy: 49.7%\n",
            "epochs: 5, Test Accuracy: 51.800000000000004%\n"
          ]
        },
        {
          "output_type": "stream",
          "name": "stderr",
          "text": [
            "100%|██████████| 3000/3000 [00:07<00:00, 427.89it/s]\n"
          ]
        },
        {
          "output_type": "stream",
          "name": "stdout",
          "text": [
            "epochs: 5, Train Accuracy: 54.0%\n",
            "epochs: 6, Test Accuracy: 54.7%\n"
          ]
        },
        {
          "output_type": "stream",
          "name": "stderr",
          "text": [
            "100%|██████████| 3000/3000 [00:06<00:00, 446.76it/s]\n"
          ]
        },
        {
          "output_type": "stream",
          "name": "stdout",
          "text": [
            "epochs: 6, Train Accuracy: 57.099999999999994%\n",
            "epochs: 7, Test Accuracy: 56.99999999999999%\n"
          ]
        },
        {
          "output_type": "stream",
          "name": "stderr",
          "text": [
            "100%|██████████| 3000/3000 [00:06<00:00, 443.73it/s]\n"
          ]
        },
        {
          "output_type": "stream",
          "name": "stdout",
          "text": [
            "epochs: 7, Train Accuracy: 58.733333333333334%\n",
            "epochs: 8, Test Accuracy: 58.4%\n"
          ]
        },
        {
          "output_type": "stream",
          "name": "stderr",
          "text": [
            "100%|██████████| 3000/3000 [00:08<00:00, 349.92it/s]\n"
          ]
        },
        {
          "output_type": "stream",
          "name": "stdout",
          "text": [
            "epochs: 8, Train Accuracy: 60.83333333333333%\n",
            "epochs: 9, Test Accuracy: 59.9%\n"
          ]
        },
        {
          "output_type": "stream",
          "name": "stderr",
          "text": [
            "100%|██████████| 3000/3000 [00:06<00:00, 453.78it/s]\n"
          ]
        },
        {
          "output_type": "stream",
          "name": "stdout",
          "text": [
            "epochs: 9, Train Accuracy: 62.66666666666667%\n",
            "epochs: 10, Test Accuracy: 60.699999999999996%\n"
          ]
        },
        {
          "output_type": "stream",
          "name": "stderr",
          "text": [
            "100%|██████████| 3000/3000 [00:07<00:00, 425.98it/s]\n"
          ]
        },
        {
          "output_type": "stream",
          "name": "stdout",
          "text": [
            "epochs: 10, Train Accuracy: 63.5%\n",
            "epochs: 11, Test Accuracy: 61.5%\n"
          ]
        },
        {
          "output_type": "stream",
          "name": "stderr",
          "text": [
            "100%|██████████| 3000/3000 [00:06<00:00, 428.84it/s]\n"
          ]
        },
        {
          "output_type": "stream",
          "name": "stdout",
          "text": [
            "epochs: 11, Train Accuracy: 64.2%\n",
            "epochs: 12, Test Accuracy: 61.9%\n"
          ]
        },
        {
          "output_type": "stream",
          "name": "stderr",
          "text": [
            "100%|██████████| 3000/3000 [00:07<00:00, 428.52it/s]\n"
          ]
        },
        {
          "output_type": "stream",
          "name": "stdout",
          "text": [
            "epochs: 12, Train Accuracy: 65.06666666666666%\n",
            "epochs: 13, Test Accuracy: 62.6%\n"
          ]
        },
        {
          "output_type": "stream",
          "name": "stderr",
          "text": [
            "100%|██████████| 3000/3000 [00:06<00:00, 434.28it/s]\n"
          ]
        },
        {
          "output_type": "stream",
          "name": "stdout",
          "text": [
            "epochs: 13, Train Accuracy: 65.63333333333333%\n",
            "epochs: 14, Test Accuracy: 63.1%\n"
          ]
        },
        {
          "output_type": "stream",
          "name": "stderr",
          "text": [
            "100%|██████████| 3000/3000 [00:06<00:00, 453.45it/s]\n"
          ]
        },
        {
          "output_type": "stream",
          "name": "stdout",
          "text": [
            "epochs: 14, Train Accuracy: 66.36666666666666%\n",
            "epochs: 15, Test Accuracy: 63.9%\n"
          ]
        },
        {
          "output_type": "stream",
          "name": "stderr",
          "text": [
            "100%|██████████| 3000/3000 [00:06<00:00, 439.19it/s]\n"
          ]
        },
        {
          "output_type": "stream",
          "name": "stdout",
          "text": [
            "epochs: 15, Train Accuracy: 67.43333333333334%\n",
            "epochs: 16, Test Accuracy: 64.7%\n"
          ]
        },
        {
          "output_type": "stream",
          "name": "stderr",
          "text": [
            "100%|██████████| 3000/3000 [00:06<00:00, 438.75it/s]\n"
          ]
        },
        {
          "output_type": "stream",
          "name": "stdout",
          "text": [
            "epochs: 16, Train Accuracy: 68.06666666666666%\n",
            "epochs: 17, Test Accuracy: 65.3%\n"
          ]
        },
        {
          "output_type": "stream",
          "name": "stderr",
          "text": [
            "100%|██████████| 3000/3000 [00:06<00:00, 461.39it/s]\n"
          ]
        },
        {
          "output_type": "stream",
          "name": "stdout",
          "text": [
            "epochs: 17, Train Accuracy: 68.56666666666666%\n",
            "epochs: 18, Test Accuracy: 66.0%\n"
          ]
        },
        {
          "output_type": "stream",
          "name": "stderr",
          "text": [
            "100%|██████████| 3000/3000 [00:06<00:00, 452.90it/s]\n"
          ]
        },
        {
          "output_type": "stream",
          "name": "stdout",
          "text": [
            "epochs: 18, Train Accuracy: 69.1%\n",
            "epochs: 19, Test Accuracy: 66.3%\n"
          ]
        },
        {
          "output_type": "stream",
          "name": "stderr",
          "text": [
            "100%|██████████| 3000/3000 [00:07<00:00, 425.83it/s]\n"
          ]
        },
        {
          "output_type": "stream",
          "name": "stdout",
          "text": [
            "epochs: 19, Train Accuracy: 69.69999999999999%\n",
            "epochs: 20, Test Accuracy: 67.10000000000001%\n"
          ]
        }
      ],
      "source": [
        "# Plot test loss as a function of epochs\n",
        "num_epochs = 20\n",
        "res5 = train(batchsize=50 , eta = 0.01, num_epochs=20, h = 256, init='default')\n",
        "res6 = train(batchsize=50 , eta = 0.01, num_epochs=20, h = 256, init='zeros')\n",
        "res7 = train(batchsize=50 , eta = 0.01, num_epochs=20, h = 256, init='ones')\n",
        "res8 = train(batchsize=50 , eta = 0.01, num_epochs=20, h = 256, init='random')"
      ]
    },
    {
      "cell_type": "code",
      "execution_count": 33,
      "metadata": {
        "colab": {
          "base_uri": "https://localhost:8080/",
          "height": 295
        },
        "id": "w5_SjNXznnjJ",
        "outputId": "dc4bf221-38d7-45b7-96aa-45f9fa902717"
      },
      "outputs": [
        {
          "output_type": "display_data",
          "data": {
            "text/plain": [
              "<Figure size 432x288 with 1 Axes>"
            ],
            "image/png": "[encoded data removed]"
          },
          "metadata": {
            "needs_background": "light"
          }
        }
      ],
      "source": [
        "plt.title('Effect of Initiazation of Weights and Biases')\n",
        "plt.xlabel('Epochs')\n",
        "plt.ylabel('Test loss (Cross Entropy loss of Test Set)')\n",
        "plt.plot(np.linspace(1,num_epochs,num_epochs), res5[6])\n",
        "plt.plot(np.linspace(1,num_epochs,num_epochs), res6[6])\n",
        "plt.plot(np.linspace(1,num_epochs,num_epochs), res7[6])\n",
        "plt.plot(np.linspace(1,num_epochs,num_epochs), res8[6])\n",
        "plt.legend([\"default\", \"zeros\", \"ones\", \"random\"])\n",
        "# plt.legend([\"default\", \"zeros\", \"ones\"])\n",
        "plt.show()"
      ]
    },
    {
      "cell_type": "code",
      "execution_count": 29,
      "metadata": {
        "id": "YM6fexFQnnjJ"
      },
      "outputs": [],
      "source": []
    }
  ],
  "metadata": {
    "kernelspec": {
      "display_name": "Python 3",
      "language": "python",
      "name": "python3"
    },
    "language_info": {
      "codemirror_mode": {
        "name": "ipython",
        "version": 3
      },
      "file_extension": ".py",
      "mimetype": "text/x-python",
      "name": "python",
      "nbconvert_exporter": "python",
      "pygments_lexer": "ipython3",
      "version": "3.8.5"
    },
    "vscode": {
      "interpreter": {
        "hash": "2646d046b8e4716260f110cd84fd15ddf7abd46056d88656aca2ddf716f73663"
      }
    },
    "colab": {
      "provenance": [],
      "collapsed_sections": []
    }
  },
  "nbformat": 4,
  "nbformat_minor": 0
}