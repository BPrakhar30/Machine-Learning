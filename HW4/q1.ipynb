{
  "cells": [
    {
      "cell_type": "markdown",
      "source": [
        "**NAME - PRAKHAR BHARDWAJ**\n",
        "\n",
        "\n",
        "**ANDREW ID - prakharb**\n",
        "\n",
        "\n",
        "**Q1**"
      ],
      "metadata": {
        "id": "1menG0p3isbz"
      }
    },
    {
      "cell_type": "markdown",
      "metadata": {
        "id": "xrWugCprtFj6"
      },
      "source": [
        "# Principal Component Analysis\n",
        "The goal of this question is to build a conceptual understanding of dimensionality reduction using PCA and implement it on a toy dataset. You’ll only have to use numpy and matplotlib for this question."
      ]
    },
    {
      "cell_type": "code",
      "execution_count": 22,
      "metadata": {
        "id": "f6YtEmc4tFkB",
        "colab": {
          "base_uri": "https://localhost:8080/",
          "height": 0
        },
        "outputId": "6a45bc2e-e1ff-4669-e1c8-f25e42eca5ac"
      },
      "outputs": [
        {
          "output_type": "stream",
          "name": "stdout",
          "text": [
            "Mean of standardized data\n",
            "[-1.69031455e-15 -1.63702385e-15 -1.48251781e-15 -1.62314606e-15\n",
            "  3.01980663e-16 -7.43109278e-16  6.81676937e-16  4.44089210e-16]\n",
            "Standard deviation of standardized data\n",
            "[1. 1. 1. 1. 1. 1. 1. 1.]\n"
          ]
        }
      ],
      "source": [
        "# (a) Load data (features)\n",
        "import numpy as np\n",
        "def load_data():\n",
        "  data_ = np.load(\"features.npy\")\n",
        "  data = ((data_ - np.mean(data_,axis = 0)) / np.std(data_,axis=0))    # Standardized data = data\n",
        "  #print(np.sum(data,axis =0))\n",
        "  print(\"Mean of standardized data\")\n",
        "  print(np.mean(data,axis=0)) \n",
        "  print(\"Standard deviation of standardized data\")\n",
        "  print(np.std(data,axis=0))\n",
        "  return data  \n",
        "call_f1 = load_data()"
      ]
    },
    {
      "cell_type": "code",
      "execution_count": 23,
      "metadata": {
        "id": "3rmE-w1ctFkC",
        "colab": {
          "base_uri": "https://localhost:8080/",
          "height": 0
        },
        "outputId": "74ec7b6f-d014-4362-e5b9-91e9ef6e9812"
      },
      "outputs": [
        {
          "output_type": "stream",
          "name": "stdout",
          "text": [
            "Sorted eigen values - [ 4.74298961e+00  2.29585309e+00  7.76910512e-01  2.04172901e-01\n",
            "  3.37651661e-02  7.57426986e-16 -1.67385263e-16 -5.46023115e-16]\n",
            "Sorted eigen vectors - [[-0.39124937  0.13884872  0.46160937 -0.58034539  0.24934936 -0.15384955\n",
            "   0.38524862  0.2085658 ]\n",
            " [ 0.11687696 -0.4391715   0.78711289  0.2905579  -0.12725786 -0.13431522\n",
            "  -0.22884157  0.05379557]\n",
            " [-0.40655289  0.29080021  0.13961871  0.12636707 -0.54994554 -0.15582815\n",
            "   0.12899147 -0.60936579]\n",
            " [-0.39944906  0.26454833  0.16206048  0.54404218  0.49904279  0.44559608\n",
            "  -0.00806499 -0.02333494]\n",
            " [-0.3778555  -0.35426671 -0.07790627 -0.42060984  0.12822569  0.24174799\n",
            "  -0.60535165 -0.32772512]\n",
            " [-0.09816172 -0.64299795 -0.11941452  0.04972667 -0.0795516   0.36920121\n",
            "   0.6290321  -0.14787147]\n",
            " [-0.45509399 -0.03231459 -0.12200908  0.08034689 -0.51935676  0.17174602\n",
            "  -0.14216797  0.67161262]\n",
            " [-0.38587285 -0.30545597 -0.29393481  0.28457653  0.27864817 -0.71498471\n",
            "   0.01294074  0.03744226]]\n"
          ]
        }
      ],
      "source": [
        "# (b) Perform eigen decomposition and return eigen pairs in desecending order of eigen values\n",
        "def eigendecomp(data):\n",
        "  covmatrix_data = np.cov(data , rowvar = False)\n",
        "  eigen_values , eigen_vectors = np.linalg.eigh(covmatrix_data)     # calculation of the covarience matrix\n",
        "  sorted_index = np.argsort(eigen_values)[::-1]                     # Sort the eigenvalues in descending order\n",
        "  sorted_eig_vals = eigen_values[sorted_index]                      # Sort the eigenvectors\n",
        "  sorted_eig_vecs = eigen_vectors[:,sorted_index]\n",
        "  print(f\"Sorted eigen values - {sorted_eig_vals}\")\n",
        "  print(f\"Sorted eigen vectors - {sorted_eig_vecs}\")\n",
        "  return (sorted_eig_vals, sorted_eig_vecs)  \n",
        "\n",
        "sorted_eig_vals, sorted_eig_vecs= eigendecomp(call_f1)"
      ]
    },
    {
      "cell_type": "code",
      "execution_count": 31,
      "metadata": {
        "colab": {
          "base_uri": "https://localhost:8080/",
          "height": 748
        },
        "id": "WSG6ZV4ftFkC",
        "outputId": "5db97f04-1bf9-4e5c-8873-ef2636eb3543"
      },
      "outputs": [
        {
          "output_type": "stream",
          "name": "stdout",
          "text": [
            "Sorted eigen values - [ 4.74298961e+00  2.29585309e+00  7.76910512e-01  2.04172901e-01\n",
            "  3.37651661e-02  7.57426986e-16 -1.67385263e-16 -5.46023115e-16]\n",
            "Sorted eigen vectors - [[-0.39124937  0.13884872  0.46160937 -0.58034539  0.24934936 -0.15384955\n",
            "   0.38524862  0.2085658 ]\n",
            " [ 0.11687696 -0.4391715   0.78711289  0.2905579  -0.12725786 -0.13431522\n",
            "  -0.22884157  0.05379557]\n",
            " [-0.40655289  0.29080021  0.13961871  0.12636707 -0.54994554 -0.15582815\n",
            "   0.12899147 -0.60936579]\n",
            " [-0.39944906  0.26454833  0.16206048  0.54404218  0.49904279  0.44559608\n",
            "  -0.00806499 -0.02333494]\n",
            " [-0.3778555  -0.35426671 -0.07790627 -0.42060984  0.12822569  0.24174799\n",
            "  -0.60535165 -0.32772512]\n",
            " [-0.09816172 -0.64299795 -0.11941452  0.04972667 -0.0795516   0.36920121\n",
            "   0.6290321  -0.14787147]\n",
            " [-0.45509399 -0.03231459 -0.12200908  0.08034689 -0.51935676  0.17174602\n",
            "  -0.14216797  0.67161262]\n",
            " [-0.38587285 -0.30545597 -0.29393481  0.28457653  0.27864817 -0.71498471\n",
            "   0.01294074  0.03744226]]\n",
            "\n",
            "Cumulative variance explained matrix from k=1 to k=8\n",
            "[0.58892121 0.87398963 0.97045602 0.99580749 1.         1.\n",
            " 1.         1.        ]\n",
            "\n",
            "Individual viriance explained for each K\n",
            "[ 5.88921210e-01  2.85068425e-01  9.64663886e-02  2.53514686e-02\n",
            "  4.19250812e-03  9.40471841e-17 -2.07836701e-17 -6.77978702e-17]\n",
            "\n"
          ]
        },
        {
          "output_type": "display_data",
          "data": {
            "text/plain": [
              "<Figure size 432x288 with 1 Axes>"
            ],
            "image/png": "[encoded data removed]"
          },
          "metadata": {
            "needs_background": "light"
          }
        }
      ],
      "source": [
        "# (c) Evaluate using variance_explained as the metric\n",
        "print(f\"Sorted eigen values - {sorted_eig_vals}\")\n",
        "print(f\"Sorted eigen vectors - {sorted_eig_vecs}\")\n",
        "def eval():\n",
        "  total_eig_vals = np.sum(sorted_eig_vals)\n",
        "  a = []\n",
        "  for i in sorted_eig_vals:\n",
        "    x = i/total_eig_vals \n",
        "    a.append(x)\n",
        "  var_exp = np.array(a)\n",
        "  return (var_exp)\n",
        "var_exp = eval()\n",
        "\n",
        "# Plot of explained variance against cumulative explained variance\n",
        "\n",
        "import matplotlib.pyplot as plt\n",
        "cumsum_var = np.cumsum(var_exp)\n",
        "print()\n",
        "print(\"Cumulative variance explained matrix from k=1 to k=8\")\n",
        "print(cumsum_var)\n",
        "print()\n",
        "print(\"Individual viriance explained for each K\")\n",
        "print(var_exp)\n",
        "print()\n",
        "plt.bar(range(len(var_exp)), var_exp, label='Individual variance explained')\n",
        "plt.step(range(len(cumsum_var)), cumsum_var, label='Cumulative variance explained')\n",
        "plt.ylabel('Cumulative variance')\n",
        "plt.xlabel('Principal component index')\n",
        "plt.legend(loc='best')\n",
        "plt.show()"
      ]
    },
    {
      "cell_type": "markdown",
      "source": [
        "I would choose the value of K to be equal to 3 as it explains 97.04% of the total varience and decreases the computational cost."
      ],
      "metadata": {
        "id": "lgOaIF5EVQTV"
      }
    },
    {
      "cell_type": "code",
      "execution_count": 32,
      "metadata": {
        "id": "_rHn0o06tFkC"
      },
      "outputs": [],
      "source": [
        "# (d) Visualize after projecting to 2-D space\n",
        "def viz():\n",
        "    reduced_eig_vect=sorted_eig_vecs[:,0:2]\n",
        "    new_data = call_f1@reduced_eig_vect\n",
        "    y = new_data.T\n",
        "    labels = np.load('labels.npy', allow_pickle=True)\n",
        "    plot1=y.T[:,0]\n",
        "    plot2=y.T[:,1]\n",
        "    plt.title(\"Standardized data in 2-D feature subspace\")\n",
        "    unique = list(set(labels))\n",
        "    for i, u in enumerate(unique):\n",
        "        xi = [plot1[j] for j  in range(len(plot1)) if labels[j] == u]\n",
        "        yi = [plot2[j] for j  in range(len(plot2)) if labels[j] == u]\n",
        "        plt.scatter(xi, yi, label=str(f\"label:{u}\"))\n",
        "    plt.legend()\n",
        "    plt.show()"
      ]
    },
    {
      "cell_type": "code",
      "execution_count": 33,
      "metadata": {
        "id": "UsQ0HqY6tFkC",
        "colab": {
          "base_uri": "https://localhost:8080/",
          "height": 281
        },
        "outputId": "cae69487-4f6d-411b-b36a-9435cccb4de1"
      },
      "outputs": [
        {
          "output_type": "display_data",
          "data": {
            "text/plain": [
              "<Figure size 432x288 with 1 Axes>"
            ],
            "image/png": "[encoded data removed]"
          },
          "metadata": {
            "needs_background": "light"
          }
        }
      ],
      "source": [
        "def main():\n",
        "    eval()\n",
        "    viz()\n",
        "\n",
        "if __name__ == \"__main__\":\n",
        "    main()"
      ]
    },
    {
      "cell_type": "markdown",
      "source": [
        "**1e.** \n",
        "\n",
        "While reducing the dimensionality from 2 to 1, PCA might produce misleading results when there are no redunant feature variables. That is when PCA is unable to find an axis along which majority of the variation in the variables can be explained.\n",
        "\n",
        "\n",
        "\n",
        "![HW4Q1 (1).jpg](data:image/jpeg;base64,/9j/4AAQSkZJRgABAQAAAQABAAD/2wBDABALDA4MChAODQ4SERATGCgaGBYWGDEjJR0oOjM9PDkzODdASFxOQERXRTc4UG1RV19iZ2hnPk1xeXBkeFxlZ2P/2wBDARESEhgVGC8aGi9jQjhCY2NjY2NjY2NjY2NjY2NjY2NjY2NjY2NjY2NjY2NjY2NjY2NjY2NjY2NjY2NjY2NjY2P/wAARCAEDASwDASIAAhEBAxEB/8QAGgAAAwADAQAAAAAAAAAAAAAAAAECBAUGA//EAEYQAAIBAwEFAwgGBggHAQAAAAABAgMEEQUGEiExQRMiURQVMmFxkZKxFlJTYoGhI0JUssHRMzRDRGOCouEkcnODk6PC8f/EABgBAQEBAQEAAAAAAAAAAAAAAAABAgME/8QAIxEBAAMAAgICAgMBAAAAAAAAAAECESExAxIiQRNxIzJRsf/aAAwDAQACEQMRAD8A3SQ0gGkZUDGkCAWB4PO4uKVrRlVrzUILm2OhWpXFGNWjNThLlJdSixpDwACwBWAwBKHgeAIEkBWAwVEjwGACkA8AELAhh0AXIB4FgBCGAEsBsQEgNiAXQXQYgESUJgSIolgSxFMTAhiGxcQM9DQkikRTSAZr9av1p9hOon+kl3aa9YHPbUaj5RdK1pv9HRfe9cv9jH0XVaumVl2ik7apzX8UeC0+pLTa1/VbUVJKOf1m3xN/pem0dQ2chSqrEt6ThNc4vxNMt/SqQrU41KclKEllNdUXg5HTL6voV7Kyvk+wb5/V+8vUddCUZxUotOLWU1yZFMBjSIpJBgrAgFgMDAqJwGCsCwAgHgMAIWB4DACFgYASAwYEklksCQGICQGxASLBTEBLEymiQJYmUyQJZJbJCthgeAQyARhajpdDUuz7dzTpvK3XzM4eANHtNCFHQuzppRgpwikvaZOzqxotD8X+ZjbXPGkxXjVj/EzNElGlodvKclGKg22+nFl+kjtWq6VR1OgoVO7Uj6FRLjH/AGPXTLN2NlTt+0dTczxZ7Ua9GvS7SlUjOC6p8CqlWnShv1JxhD6zfAmtZKxpAsSSa4p8mupirU7PyjsO2W/nd5PGfaCImemV7QHgeAiQKwGColvCbfJCwXgWAJAYAIQ/EMASwGDXACRFCwBJL5nne3EbS1nXlFyUVyXUxaOp9pRuJVKLp1aEd5wbzlY4E1uKTMbDNfDOeB40LqhcqXYVYz3Xh46GLTqXFXRatWvKLnOnKS3VjCxwNXp7rwq29W1tKuN3cqvHdnx5kmzpXxbE89M/ULvE+0tqrlK2lmrTXJxfzNhTnGpTjUg8xkspk0bShQjOFKlGKn6XrKo0adCkqVKO7CPJFhi01zIMGNiK5kSyhASyShMCGIbEFbFDBDIDHAYIYHP7YPGnUV41f4MdSFWWz1jRpZ/SbqeF7Tz2yf8AwtsvGo3+Ru9LW7plqv8ACj8iz0tLettai8tZWFjStszlCrPNaUFn8EeV7a1bu4jC0ozdKjSjiMnjn7evE6ZGBqepvT50k6PaKabzvYwYmHenltM8Ryx6FnqcrWjT8pVCMY4ccd7n4nnrS70La3tXKTkqk5QhzMy11i3uKkKbp1ac5+ipR4P8TYl4Sb2rbbQ8rac6tCM6lKVKT5wk8tHqMCuEzyQYGgwEIWBmFeara2dVU6rk582oxzhGq1m05EJMxEbLMwLARalFSi8prKYyKnADACRFCwBLFhnje287imowuJ0MPLcOpoo2tW8u3St7uvUpQ4VKs5cPw8STOOtKRaN1vbqgrm3qUZcpxwarRraFS2uO1cpVJN0p5fJLoZejValW0kqs3NwqOCk+eEZyilnC5vJO+SZmkTRrrWxuKMZUatyqlvuOEYKOHx9ZlW9CFtbwowbcYLCye5JcZm0z2QmPAFZSSUxBEiKJYEiZQmBDJLZIGxXIaBFIikhgMDmdsn+jtI/ek/yR0Fit2xt14U4/I53bL+ks4/8AM/kdLbLFtSXhCPyL9I9DB1TT5X3YbuMQn3svHDqZ4yN1tNZ2GmXbaNUxLeq2TfB83TNxTqRq01OnJSjJZTQ5RjOLjOKcWsNPqaidKto9R1aCdSzk8zp9YetE6b2PJ+/+tz6hYIoV6dxSVSlLehLk0ajVdZrWd72NKNOUYxTlni8nXx+OfJOVee9op/ZuhkUakatGFSPozipLJZieGiNXqGixvbtVu13E0lNYznHgbURql7Unas2rFoyUxioxUUuCWEMYjLRCYwxkCRPgm3yNH5zvvO0qG6lBTw4OPKPjn2cT2q1amr1XQt5OFpF4qVfr+pG/JSaZv2eP+Tf8gq1apqtWVvaycLaLxVq/W9SNjQoU7elGlSiowjyRVGjChSjSpR3YR5Is5xDdrbxHTA0q3qW1CpGqsOVWUlxzwMxooRYSZ9p2UiZTEwiRFEgIlooTAkQ2JgSJlMkCWS2UyQjZoolDRFMYIYHKbYcby0j92XzR1VJYpxS6RXyOT2r46raR+5/9HXR4JIqQB4DAyKSG1lNBgYRqK9rV02rK6sU5UnxqUP4oPINP1Zq7g5py9OMXjj6zbmrurGrbVneafwn/AGlLpNFra1J2sukxXyxl+2zjFRioxWIpYS8BmNY3tK9pb8O7JenB84syRusTE1nJLADEEIB4EAhSajFybSSWW30HKUYRcpNKK4tvoaiUqms1XCm5U7GD70uTqPwJrda+36TUnU1is6VFuFnF4nUxxqepG0pUoUaUadKKjGK4JFU6UKVONOnFRhFYSXQYgtbeI6SJlYEVgmSVgWAqRFNCAkTGIBEsoQEsQ2JgSxMpktAQxFMkDYlIlFIgYxDz60ByW0ne161j9yP7zOwOP1zv7T28fBQ+bOw6llINDEhkUIYuWW+QRkpRzFqS8U8gMMAARrb7T59r5XYvs7lc10n7T20+/hdxcWuzrw4TpvmjMMC/0/t5Kvby7K5h6M1wz6mHSLRaMszgMGw1FV3Khcx7K5h6UXwz60eFe/r3dZ2+mJPd9Os/RXsGn47bjaEzlGEJTm1GKWW30Nfb6puTdDUIqhWivSfoyXijxSq61V471Oxg+C5Ooxqx45++ibqazVaW9TsYPi+TqM21OnClTUKcVGMVhJFRhGnBQhFRjFYSXJAIhm1t4josCZRLKw8bmsre3qVmm1BZwlnJpdP1ytWu4Uq8IblR4Tisbr6G/a6eJrKOi21C7VxFzaTzGD5Jnbx28cVmLxy53i8zHq2IhiODqkRTEwJEMQCJKYgJExiYEskoTAhiKZOANgikIaA1Op3l3K+pafYShCrOO/KpJZ3Ua9Sv6WvWMdTlGSTapzhwUs/xNvfWypVZ6lSTlXpUmlBvEZe09rGtT1CzoXMqcXJreXDO6/UVHO6n39rqK8HTR2HU5C6722kF4Th8jr0JINDEhkVq9oe2dgo0Yyackp7q6FaDb1rexfbJx35b0YvojZ+wDr+Sfx+mMeny9gGBgcmi6ACDqUYWpabSvqfHuVV6M18n6jE068p2UHZ3cI29Sks56TXj7TcHhdWdC8UVXp7268p8mSYda349bdNWqc9brqrUi6dlTb3FylNm4hCNOCjFJRisJLoOMVBKMUlFLCSXBDYiGb39uPoCGJlYITKF0AkQxEVPtF05lE+wBCK6CAliGxMCWJlEgIkolgJkspksCXknBTJA2KGiUNAYL1S3lqFWwqrcaj6UmkpZXI9rJ2VvTja2tWliPKKqJs1mt1tO8oVO9sa1ZqKaqQjyXhkwbe1sNQuKVLT7W4ttyW9KtKL5LpzLiB97bb2VF+6dejj7fvbaz9VR/unYISQY0IaIpjEMAEMAgAAABDAoQAMgQhiATMHUdSpafGPaRlOU+UYmczXappi1Ds32vZuGf1c5yb8fr7fPpm/tnx7ZVvXhc28K1P0ZrKyWeVpbRtLaFCLbUFzfU9mS2bOdNRucpJZTEZVIDEAhMYgJEyiQJEymSwJZLKYmBDJLZIGePIkGVFNt4SXFgc3qGoVrDWp+R1KlzlZq0Gm1H2GZoF3Xv6te6rXEMNbsbeD9D14JevWUa1R2lpWrzk+9OnTxvfiLRKlK+1G5ulZK3nT7vBvOXzyuWS/SQwtP722VZ+FSfyOvRyGj97a24f3qh16EkGNCyCIqkavX7yvaW9NUJODnJpzXTBtAlGMliSTXrWTdLRW0TMazaJmMhi6VcVLrT6dWr6bym/H1mWCSSwkkvACWnZmYWIyMAABkAACAAAAEwNRr97cWjoK3m4b2W2lzM3TbidzYUq1Rd6S446+s6T45ikX+pZi8TaasgT5DEzm2TENiYEsQxMBCYxMBCYCAGSMQCJZQgJZLKZLAhiGxAZ4YymmuDEigOdr6VqVhWq1NJqpUp8eyzy95kbNuVCnO0q2tanVy5zqTXCT9pu0NF1McnoPe2muX66nzOvRyOzXe1+6l6p/vHXCeyDKRI0RVIECABgCABoxdRvY2Nt2rjvttRUc4yZOTxurald0nSrR3o5zzxhmq57R7dJbc4eOm6hDUKMpRg4Sg8NN5Mw8ra2o2tLs6EFCPP2s9Reazb49FdznsBwARlXjdWlC7io16amovKyekIRhFQglGKWEl0KEXZzEyCENksigTAQCEMTATExiARLKEwJEyiWgESyhASS+RTEwIJwUxAZqGJDQDGJDfJgcpsrx1e5l92X7x1xyWyXHULp/d/idYWe0hYyUNEVQ+hKY0AxiABoCc8AArxAWRgGeAc0JMG8AAmBLYAJgLIAIBMAJYxAIAFkAEAmAMljEAmJ8hiAlklMlgSxDYgMxMaJRSApCn6EvYwRNV4pTf3WBzOx6zdXT+6vmdYjldjf6a5f3V8zqkWe0joykSMimV0JGgGIAAB9CRpgPI/EQALPAGxBkAb6iAAED5AIAJY2SwBgAgEDATAQAIAEAgAnqNnjcXFG3ipVqsaak8JyeAPRkjTTWU00+TQmBL5EP2l5EBloaJTGgKRFx/V6r+4/kWjzuni0rf9OXyA5/Y1d65fqidQjkdlLu3tY3HlFaFPe3cbz5nQ+dtP/a6XvLPaQzhmB540/8Aa6XvH54079rp+8YrPQzX+etO/a6f5h5703H9bh+ZDhsBZNe9c039qj7mT59039pXuZcGzA1fn/TV/ef9LD6Qaav7w/hYyRtUGTUvaLTV/bS+BkvaTTftJ/AMTW2bEah7S6d9ep8BL2m09davwjDW5A0j2osPCr7iZbU2K/Uq+5DJNbzIGhe1dn9lVfuIe1lp9jU96GSa3+RHPPa226W8/iRD2todLeXxDJNh0bYmzmpbXU+lt/rIe1vhar4hkmunbEcu9rKnS0XvYvpTcv0bNe5jF11AjlntJfv0bJfBIX0g1SXo2X/rkMTXU5E2ct561qXo2b/8TF5z198rWS/7Qw11OTA1XTaWp26pzk4SjxhJdH7OppPLNopcqEl/kSF2m0kv1JL4S4PGFfUtnqqhWj2ts3w491+x9H6jo7DUKOoW/a0G8J4lF84s5TU7jV6NLs76b3KvDdbTz7jotCs/ItNhGSxOp35+1kkhsWSNiIrMGiUNAUhTgqlOUJejJNP2DQ0Bo/orZ54VqyXhlfyH9FbP7at71/I3g+hdlMaNbKWf21b3r+Q1srZfa1vev5G8GNMaRbK2P2lb4l/If0VsPr1vi/2N2hk1caT6Laf41vjBbL6f/jfGbrIZLspjTrZjTvq1fjZX0Z036lT42bdB0GrkNT9GtMx/RS+NmLfaZomn04zuKbW88RSk22b9s5DX1V1DULl0sOlZU8Sb/P8AH+QhG4WiaQoQl2UUp43czfH8xLSdGdaNJUaTnKO8lvN5XiazU5TqaDplJRcrmpjcS58v/wAFptamtVtG4VKMaVpJNSTzlZyBtIadok7h0IUqMqq5x4tnv5l01L+p0vcarZd0517hdkpyg243GMNpvkbZyvoXNapWlT8ljGTjGKzJ8OBJV52tjpV1R7WhbUZQy1nc6o9vNlinwtKPwIxdmoTp6RHfi4uU5SSaxwybQDGWn2a5WtH4EPyO2XK3pfAj3EB5eTUFyo01/lQdjSXKnD3I9BAT2cFyivcG6vBBkMgGEJg2IAfAQyQAkbFkDmrmjU1LaTs6kJKjQfHK4NL+bOjDqACZI2L8AMvI0SNAWholDQFDRKGBQ0ShoCkPkSDYDyAgQFLkAhZCnk81Spxc2oRW/wClw5+0oAiZUaUpwnKEXKn6La9H2D3Y5zhZXAYECjGMFiMUvYgDPERQ+ggEwBibDJOQHkkGyWAxZBsWQHkWRBkAAWRZAGxBkQA2SxiYCYgZLAzRoAAYwAClyGgAAGuYAA+ggAAQwABiYARSAAKgYdQAgS5iAChMS6gACEAAIT5gACEAAIAABMQAAmJgACB8gACGSAAf/9k=)"
      ],
      "metadata": {
        "id": "QWTmHgdk_6WA"
      }
    }
  ],
  "metadata": {
    "kernelspec": {
      "display_name": "Python 3 (ipykernel)",
      "language": "python",
      "name": "python3"
    },
    "language_info": {
      "codemirror_mode": {
        "name": "ipython",
        "version": 3
      },
      "file_extension": ".py",
      "mimetype": "text/x-python",
      "name": "python",
      "nbconvert_exporter": "python",
      "pygments_lexer": "ipython3",
      "version": "3.9.12"
    },
    "colab": {
      "provenance": []
    }
  },
  "nbformat": 4,
  "nbformat_minor": 0
}