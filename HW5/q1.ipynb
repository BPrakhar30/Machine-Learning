{
  "cells": [
    {
      "cell_type": "markdown",
      "metadata": {
        "id": "-pHwsXgxwBne"
      },
      "source": [
        "# Problem 1: Support Vector Machines\n",
        "\n",
        "## Instructions:\n",
        "1. Please use this q1.ipynb file to complete hw5-q1 about SVMs\n",
        "2. You may create new cells for discussions or visualizations\n"
      ]
    },
    {
      "cell_type": "markdown",
      "source": [
        "### NAME - PRAKHAR BHARDWAJ\n",
        "### ANDREW ID - prakharb"
      ],
      "metadata": {
        "id": "bFLB2jKy246A"
      }
    },
    {
      "cell_type": "code",
      "source": [],
      "metadata": {
        "id": "oxzEuebOUGyT"
      },
      "execution_count": null,
      "outputs": []
    },
    {
      "cell_type": "code",
      "execution_count": null,
      "metadata": {
        "id": "LhLY44q_wBng",
        "outputId": "d97240bf-c985-42c6-8ca8-974d5a64ed35"
      },
      "outputs": [
        {
          "name": "stdout",
          "output_type": "stream",
          "text": [
            "Collecting cvxopt\n",
            "  Downloading cvxopt-1.3.0-cp310-cp310-win_amd64.whl (12.7 MB)\n",
            "     --------------------------------------- 12.7/12.7 MB 18.7 MB/s eta 0:00:00\n",
            "Installing collected packages: cvxopt\n",
            "Successfully installed cvxopt-1.3.0\n"
          ]
        },
        {
          "name": "stderr",
          "output_type": "stream",
          "text": [
            "\n",
            "[notice] A new release of pip available: 22.3 -> 22.3.1\n",
            "[notice] To update, run: python.exe -m pip install --upgrade pip\n"
          ]
        }
      ],
      "source": [
        "# Install cvxopt with pip\n",
        "# !pip install cvxopt"
      ]
    },
    {
      "cell_type": "code",
      "execution_count": 1,
      "metadata": {
        "id": "yIAADBxQwBni"
      },
      "outputs": [],
      "source": [
        "# Import modules\n",
        "import numpy as np\n",
        "import matplotlib.pyplot as plt\n",
        "import cvxopt\n",
        "from cvxopt import matrix, solvers"
      ]
    },
    {
      "cell_type": "markdown",
      "metadata": {
        "id": "ZSKiEmwxwBni"
      },
      "source": [
        "## a): Linearly Separable Dataset"
      ]
    },
    {
      "cell_type": "code",
      "execution_count": 3,
      "metadata": {
        "colab": {
          "base_uri": "https://localhost:8080/"
        },
        "id": "0qQs0C-OwBnj",
        "outputId": "108c9b02-3ea3-4386-c38c-1997e98a283f"
      },
      "outputs": [
        {
          "output_type": "stream",
          "name": "stdout",
          "text": [
            "     pcost       dcost       gap    pres   dres\n",
            " 0:  1.5173e+00  3.7821e+01  1e+02  2e+00  3e+01\n",
            " 1:  1.3803e+01  9.6371e+00  3e+01  5e-01  7e+00\n",
            " 2:  2.1717e+01  1.7415e+01  3e+01  4e-01  6e+00\n",
            " 3:  3.9769e+01  3.8469e+01  8e+00  7e-02  1e+00\n",
            " 4:  4.3534e+01  4.3375e+01  5e-01  4e-03  6e-02\n",
            " 5:  4.3726e+01  4.3699e+01  3e-02  8e-06  1e-04\n",
            " 6:  4.3723e+01  4.3721e+01  1e-03  4e-07  5e-06\n",
            " 7:  4.3723e+01  4.3723e+01  1e-05  4e-09  5e-08\n",
            "Optimal solution found.\n",
            "training complete \n",
            " [ 6.83e+00]\n",
            "[ 6.38e+00]\n",
            "[-5.43e+00]\n",
            "\n"
          ]
        }
      ],
      "source": [
        "data = np.loadtxt('clean_lin.txt', delimiter='\\t')\n",
        "x = data[:, 0:2]\n",
        "y = data[:, 2]\n",
        "\n",
        "Q = matrix(np.array([[1,0,0],[0,1,0],[0,0,0]]),tc = 'd')\n",
        "p = matrix(np.array([[0],[0],[0]]),tc = 'd')\n",
        "g1 = -np.multiply(y,x[:, 0])\n",
        "g2 = -np.multiply(y,x[:, 1])\n",
        "g3 = -y\n",
        "G = matrix(np.column_stack((g1,g2,g3)),tc = 'd')\n",
        "len_data = len(data)\n",
        "h = matrix(-np.ones((len_data, 1)),tc = 'd')\n",
        "\n",
        "solution = cvxopt.solvers.qp(Q,p,G,h)\n",
        "w = solution['x']\n",
        "print(\"training complete \\n\" ,w)"
      ]
    },
    {
      "cell_type": "code",
      "source": [
        "#Decision Boundary\n",
        "plt.scatter(x[:,0][y == -1],x[:,1][y == -1], c = 'purple')\n",
        "plt.scatter(x[:,0][y == 1],x[:,1][y == 1], c = 'yellow', edgecolor = 'black')\n",
        "plt.legend()\n",
        "\n",
        "points = np.linspace(0, 1.4, 141)\n",
        "hyperplane = (w[0]*points+w[2])/(-1*w[1])\n",
        "hyperplane1 = (w[0]*points+w[2]+1)/(-1*w[1])\n",
        "hyperplane2 = (w[0]*points+w[2]-1)/(-1*w[1])\n",
        "plt.plot(points, hyperplane, c = 'lightblue')\n",
        "plt.plot(points, hyperplane1, linestyle='--', c = 'green')\n",
        "plt.plot(points, hyperplane2, linestyle='--', c = 'green')\n"
      ],
      "metadata": {
        "colab": {
          "base_uri": "https://localhost:8080/",
          "height": 301
        },
        "id": "LnmeNfnN51UN",
        "outputId": "311ae489-a936-40b2-eff0-0efb096614f1"
      },
      "execution_count": 4,
      "outputs": [
        {
          "output_type": "stream",
          "name": "stderr",
          "text": [
            "WARNING:matplotlib.legend:No handles with labels found to put in legend.\n"
          ]
        },
        {
          "output_type": "execute_result",
          "data": {
            "text/plain": [
              "[<matplotlib.lines.Line2D at 0x7fa51ed80400>]"
            ]
          },
          "metadata": {},
          "execution_count": 4
        },
        {
          "output_type": "display_data",
          "data": {
            "text/plain": [
              "<Figure size 432x288 with 1 Axes>"
            ],
            "image/png": "[encoded data removed]"
          },
          "metadata": {
            "needs_background": "light"
          }
        }
      ]
    },
    {
      "cell_type": "markdown",
      "metadata": {
        "id": "t4Dmc3z0wBnk"
      },
      "source": [
        "## b) and c) : Linearly Non-separable Dataset"
      ]
    },
    {
      "cell_type": "code",
      "source": [
        "# Load the data set that is not linearly separable\n",
        "data = np.loadtxt('dirty_nonlin.txt', delimiter='\\t')\n",
        "x = data[:, 0:2]\n",
        "y = data[:, 2]\n",
        "len_data = len(data)\n",
        "\n",
        "# for C = 0.05\n",
        "C = 0.05\n",
        "X = np.concatenate((x, np.ones(len_data).reshape(len_data, 1)), axis = 1)\n",
        "Y = y.reshape(len_data, 1) * 1\n",
        "q1 = np.array([[1,0,0], [0,1,0], [0,0,0]])\n",
        "q2 = np.zeros((3, len_data), dtype = int)\n",
        "q3 = np.zeros((len_data, len_data + 3), dtype = int)\n",
        "q11 = np.column_stack((q1, q2))\n",
        "Q = matrix(np.vstack((q11, q3)), tc = 'd') \n",
        "\n",
        "# for C = 0.1\n",
        "C = 0.1\n",
        "p = np.concatenate((np.zeros(3), C * np.ones(len_data))).reshape(len_data+3, 1)\n",
        "p = matrix(p, tc = 'd')\n",
        "G1 = -1 * X * Y\n",
        "G2 = -1 * np.eye(len_data)\n",
        "G3 = np.zeros((len_data, 3))                \n",
        "G11 = np.concatenate((G1, G3))\n",
        "G21 = np.concatenate((G2, G2))\n",
        "G = np.concatenate((G11, G21), axis = 1) \n",
        "G = matrix(G, tc = 'd')    \n",
        "h1 = -1 * np.ones(len_data)\n",
        "h2 = np.zeros(len_data)\n",
        "h = matrix(np.concatenate((h1, h2)).reshape(2 * len_data, 1))\n",
        "solution = cvxopt.solvers.qp(Q, p, G, h)\n",
        "w = np.array(solution['x'])\n",
        "    \n",
        "plt.figure(figsize=(5, 3.5))\n",
        "plt.scatter(x[:, 0][y == -1], x[:, 1][y == -1], c = 'purple')\n",
        "plt.scatter(x[:, 0][y == 1], x[:, 1][y == 1], c = 'yellow', edgecolor = 'black')\n",
        "plt.legend()\n",
        "points = np.linspace(-7.5, 10, 1761)\n",
        "hyperplane = (w[0] * points + w[2]) / (-1 * w[1])\n",
        "hyperplane1 = (w[0] * points + w[2] + 1) / (-1 * w[1])\n",
        "hyperplane2 = (w[0] * points + w[2] - 1) / (-1 * w[1])    \n",
        "plt.plot(points, hyperplane, c = 'lightblue')\n",
        "plt.plot(points, hyperplane1, linestyle = '--', c = 'orange')\n",
        "plt.plot(points, hyperplane2, linestyle = '--', c = 'orange')\n",
        "\n",
        "# for C = 1\n",
        "C = 1\n",
        "p = np.concatenate((np.zeros(3), C * np.ones(len_data))).reshape(len_data+3, 1)\n",
        "p = matrix(p, tc = 'd')\n",
        "g1 = -1 * X * Y\n",
        "g2 = -1 * np.eye(len_data)\n",
        "g3 = np.zeros((len_data, 3))                \n",
        "g11 = np.concatenate((g1, g3))\n",
        "g21 = np.concatenate((g2, g2))\n",
        "G = np.concatenate((g11, g21), axis = 1) \n",
        "G = matrix(G, tc = 'd')\n",
        "    \n",
        "h1 = -1 * np.ones(len_data)\n",
        "h2 = np.zeros(len_data)\n",
        "h = matrix(np.concatenate((h1, h2)).reshape(2 * len_data, 1))\n",
        "solution = cvxopt.solvers.qp(Q, p, G, h)\n",
        "w = np.array(solution['x'])\n",
        "points = np.linspace(-7.5, 10, 1761)\n",
        "hyperplane = (w[0] * points + w[2]) / (-1 * w[1])\n",
        "hyperplane1 = (w[0] * points + w[2] + 1) / (-1 * w[1])\n",
        "hyperplane2 = (w[0] * points + w[2] - 1) / (-1 * w[1])\n",
        "\n",
        "plt.style.use('seaborn')\n",
        "\n",
        "plt.plot(points, hyperplane, c = 'lightblue')\n",
        "plt.plot(points, hyperplane1, linestyle = '--', c = 'red')\n",
        "plt.plot(points, hyperplane2, linestyle = '--', c = 'red')\n",
        "\n",
        "# for C = 100\n",
        "C = 100\n",
        "p = np.concatenate((np.zeros(3), C * np.ones(len_data))).reshape(len_data+3, 1)\n",
        "p = matrix(p, tc = 'd')\n",
        "G1 = -1 * X * Y\n",
        "G2 = -1 * np.eye(len_data)\n",
        "G3 = np.zeros((len_data, 3))                \n",
        "G11 = np.concatenate((G1, G3))\n",
        "G21 = np.concatenate((G2, G2))\n",
        "G = np.concatenate((G11, G21), axis = 1) \n",
        "G = matrix(G, tc = 'd')\n",
        "h1 = -1 * np.ones(len_data)\n",
        "h2 = np.zeros(len_data)\n",
        "h = matrix(np.concatenate((h1, h2)).reshape(2 * len_data, 1))\n",
        "solution = cvxopt.solvers.qp(Q, p, G, h)\n",
        "w = np.array(solution['x'])\n",
        "        \n",
        "points = np.linspace(-7.5, 10, 1761)\n",
        "hyperplane = (w[0] * points + w[2]) / (-1 * w[1])\n",
        "hyperplane1 = (w[0] * points + w[2] + 1) / (-1 * w[1])\n",
        "hyperplane2 = (w[0] * points + w[2] - 1) / (-1 * w[1])\n",
        "plt.plot(points, hyperplane, c = 'lightblue')\n",
        "plt.plot(points, hyperplane1, linestyle = '--', c = 'black')\n",
        "plt.plot(points, hyperplane2, linestyle = '--', c = 'black')\n",
        "\n",
        "# for C = 1000000\n",
        "C = 1000000\n",
        "p = np.concatenate((np.zeros(3), C * np.ones(len_data))).reshape(len_data+3, 1)\n",
        "p = matrix(p, tc = 'd')\n",
        "g1 = -1 * X * Y\n",
        "g2 = -1 * np.eye(len_data)\n",
        "g3 = np.zeros((len_data, 3))                \n",
        "g11 = np.concatenate((g1, g3))\n",
        "g21 = np.concatenate((g2, g2))\n",
        "G = np.concatenate((g11, g21), axis = 1) \n",
        "G = matrix(G, tc = 'd')\n",
        "h1 = -1 * np.ones(len_data)\n",
        "h2 = np.zeros(len_data)\n",
        "h = matrix(np.concatenate((h1, h2)).reshape(2 * len_data, 1))\n",
        "solution = cvxopt.solvers.qp(Q, p, G, h)\n",
        "w = np.array(solution['x'])\n",
        "\n",
        "points = np.linspace(-7.5, 10, 1761)\n",
        "hyperplane = (w[0] * points + w[2]) / (-1 * w[1])\n",
        "hyperplane1 = (w[0] * points + w[2] + 1) / (-1 * w[1])\n",
        "hyperplane2 = (w[0] * points + w[2] - 1) / (-1 * w[1])    \n",
        "plt.plot(points, hyperplane, c = 'lightblue')\n",
        "plt.plot(points, hyperplane1, linestyle = '--', c = 'darkgreen')\n",
        "plt.plot(points, hyperplane2, linestyle = '--', c = 'darkgreen')\n",
        "plt.xlim(-10, 10)\n",
        "plt.ylim(-10, 10)"
      ],
      "metadata": {
        "id": "9mAyUKgCTgzp",
        "colab": {
          "base_uri": "https://localhost:8080/",
          "height": 1000
        },
        "outputId": "c4bc7c53-1bf2-4a41-fdb6-4df25678e16b"
      },
      "execution_count": 16,
      "outputs": [
        {
          "output_type": "stream",
          "name": "stderr",
          "text": [
            "WARNING:matplotlib.legend:No handles with labels found to put in legend.\n"
          ]
        },
        {
          "output_type": "stream",
          "name": "stdout",
          "text": [
            "     pcost       dcost       gap    pres   dres\n",
            " 0:  2.0644e+00  5.0524e+01  7e+02  3e+00  6e+02\n",
            " 1:  1.9690e+01 -2.3059e+01  5e+01  1e-01  3e+01\n",
            " 2:  1.1116e+01  1.1465e+00  1e+01  2e-02  4e+00\n",
            " 3:  5.1661e+00  3.9158e+00  1e+00  2e-03  5e-01\n",
            " 4:  4.6987e+00  4.3010e+00  4e-01  5e-04  1e-01\n",
            " 5:  4.5752e+00  4.4251e+00  2e-01  1e-04  3e-02\n",
            " 6:  4.5227e+00  4.4685e+00  5e-02  3e-05  7e-03\n",
            " 7:  4.5033e+00  4.4844e+00  2e-02  9e-06  2e-03\n",
            " 8:  4.4945e+00  4.4920e+00  3e-03  7e-07  2e-04\n",
            " 9:  4.4932e+00  4.4931e+00  3e-05  8e-09  2e-06\n",
            "10:  4.4931e+00  4.4931e+00  3e-07  8e-11  2e-08\n",
            "Optimal solution found.\n",
            "     pcost       dcost       gap    pres   dres\n",
            " 0: -5.3430e+01  2.5866e+02  1e+03  4e+00  7e+01\n",
            " 1:  1.3083e+02 -3.0700e+01  2e+02  5e-01  8e+00\n",
            " 2:  5.6266e+01  3.4536e+01  2e+01  3e-02  5e-01\n",
            " 3:  4.9781e+01  4.0113e+01  1e+01  1e-02  2e-01\n",
            " 4:  4.6228e+01  4.2703e+01  4e+00  4e-03  6e-02\n",
            " 5:  4.5200e+01  4.3715e+01  2e+00  1e-03  2e-02\n",
            " 6:  4.4871e+01  4.3992e+01  9e-01  4e-04  6e-03\n",
            " 7:  4.4528e+01  4.4306e+01  2e-01  8e-05  1e-03\n",
            " 8:  4.4480e+01  4.4339e+01  1e-01  4e-05  7e-04\n",
            " 9:  4.4429e+01  4.4388e+01  4e-02  4e-16  3e-14\n",
            "10:  4.4408e+01  4.4407e+01  8e-04  4e-16  2e-13\n",
            "11:  4.4407e+01  4.4407e+01  8e-06  4e-16  6e-13\n",
            "Optimal solution found.\n",
            "     pcost       dcost       gap    pres   dres\n",
            " 0: -8.1935e+05  4.6922e+05  2e+06  2e+02  2e+01\n",
            " 1:  1.4977e+05 -5.9743e+03  2e+05  4e+00  3e-01\n",
            " 2:  8.0014e+03  2.6761e+03  6e+03  1e-01  8e-03\n",
            " 3:  5.3250e+03  3.5779e+03  2e+03  3e-02  2e-03\n",
            " 4:  5.1725e+03  3.8285e+03  1e+03  2e-02  1e-03\n",
            " 5:  4.7825e+03  4.0969e+03  7e+02  8e-03  6e-04\n",
            " 6:  4.6499e+03  4.2525e+03  4e+02  4e-03  3e-04\n",
            " 7:  4.4915e+03  4.3960e+03  1e+02  1e-04  1e-05\n",
            " 8:  4.4683e+03  4.4074e+03  6e+01  5e-05  4e-06\n",
            " 9:  4.4356e+03  4.4342e+03  1e+00  8e-07  6e-08\n",
            "10:  4.4348e+03  4.4348e+03  6e-02  3e-08  3e-09\n",
            "11:  4.4348e+03  4.4348e+03  1e-03  6e-10  5e-11\n",
            "Optimal solution found.\n",
            "     pcost       dcost       gap    pres   dres\n",
            " 0: -8.2223e+13  4.5071e+13  2e+14  2e+06  2e+01\n",
            " 1:  1.4294e+13 -6.7821e+11  2e+13  3e+04  2e-01\n",
            " 2:  2.5270e+11 -1.8156e+08  3e+11  4e+02  3e-03\n",
            " 3:  2.5980e+09  2.6019e+07  3e+09  4e+00  3e-05\n",
            " 4:  9.5287e+07  2.6381e+07  8e+07  1e-01  8e-07\n",
            " 5:  5.5354e+07  3.4041e+07  2e+07  3e-02  2e-07\n",
            " 6:  5.2265e+07  3.7746e+07  2e+07  2e-02  1e-07\n",
            " 7:  4.8992e+07  4.0548e+07  9e+06  6e-03  5e-08\n",
            " 8:  4.6404e+07  4.2701e+07  4e+06  2e-03  2e-08\n",
            " 9:  4.4997e+07  4.3915e+07  1e+06  9e-05  7e-10\n",
            "10:  4.4776e+07  4.4016e+07  8e+05  4e-05  3e-10\n",
            "11:  4.4418e+07  4.4290e+07  1e+05  6e-06  5e-11\n",
            "12:  4.4349e+07  4.4346e+07  3e+03  1e-07  1e-12\n",
            "13:  4.4347e+07  4.4347e+07  2e+02  8e-09  4e-12\n",
            "14:  4.4347e+07  4.4347e+07  2e+00  8e-11  1e-12\n",
            "Optimal solution found.\n"
          ]
        },
        {
          "output_type": "execute_result",
          "data": {
            "text/plain": [
              "(-10.0, 10.0)"
            ]
          },
          "metadata": {},
          "execution_count": 16
        },
        {
          "output_type": "display_data",
          "data": {
            "text/plain": [
              "<Figure size 360x252 with 1 Axes>"
            ],
            "image/png": "[encoded data removed]"
          },
          "metadata": {
            "needs_background": "light"
          }
        }
      ]
    },
    {
      "cell_type": "markdown",
      "metadata": {
        "id": "5ezePRDowBnl"
      },
      "source": [
        "### Explain your observations here:"
      ]
    },
    {
      "cell_type": "markdown",
      "source": [
        "#Observation - \n",
        "\n",
        "The decision boundaries for the value of c = 100 and 1000000 gives the overlapping decision boundaries. The weights for both these conditions are also found to be the same. \n",
        "\n",
        "We can also observe that the best decision boundaries are for the vlues of c = 100 and 1000000 and our method does not further makes the results better after the value of c reaches 100"
      ],
      "metadata": {
        "id": "ilA9zFK-PtkR"
      }
    },
    {
      "cell_type": "code",
      "source": [],
      "metadata": {
        "id": "iSbGXXX6V1O2"
      },
      "execution_count": null,
      "outputs": []
    }
  ],
  "metadata": {
    "kernelspec": {
      "display_name": "Python 3 (ipykernel)",
      "language": "python",
      "name": "python3"
    },
    "language_info": {
      "codemirror_mode": {
        "name": "ipython",
        "version": 3
      },
      "file_extension": ".py",
      "mimetype": "text/x-python",
      "name": "python",
      "nbconvert_exporter": "python",
      "pygments_lexer": "ipython3",
      "version": "3.10.3"
    },
    "vscode": {
      "interpreter": {
        "hash": "2646d046b8e4716260f110cd84fd15ddf7abd46056d88656aca2ddf716f73663"
      }
    },
    "colab": {
      "provenance": []
    }
  },
  "nbformat": 4,
  "nbformat_minor": 0
}